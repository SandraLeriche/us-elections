# data to plot
top_five_states_dem_vs_GOP = 5
GOP = (2969532.0, 4605515.0, 2118179.0, 2912941.0, 4681590.0)
DEM = (5488261.0 , 4485745.0, 2977498.0, 2844705.0, 3867816.0 )

# create plot
fig, ax = plt.subplots()
index = np.arange(top_five_states_dem_vs_GOP)
bar_width = 0.35
opacity = 0.8

rects1 = plt.bar(index, GOP, bar_width,
alpha=opacity,
color='red',
label='GOP')

rects2 = plt.bar(index + bar_width, DEM, bar_width,
alpha=opacity,
color='blue',
label='DEM')

plt.xlabel('state')
plt.ylabel('total_votes')
plt.title('GOP vs DEM')
plt.xticks(index + bar_width, ('CALIFORNIA', 'FLORIDA', 'ILLINOIS','PENNSYLVANIA','TEXAS'))
plt.legend()

plt.tight_layout()
plt.show()
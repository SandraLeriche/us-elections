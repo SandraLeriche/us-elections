{
 "cells": [
  {
   "cell_type": "code",
   "execution_count": 178,
   "metadata": {},
   "outputs": [],
   "source": [
    "import pandas as pd\n",
    "import numpy as np\n",
    "import matplotlib.pyplot as plt\n",
    "import seaborn as sns"
   ]
  },
  {
   "cell_type": "code",
   "execution_count": 179,
   "metadata": {},
   "outputs": [],
   "source": [
    "#import table for analysis\n",
    "results = pd.read_csv('/Users/michellerobertson/Documents/GitHub/us-elections/data/clean_data/historical_data/us_1976_2018_house.csv', encoding= 'unicode_escape')"
   ]
  },
  {
   "cell_type": "code",
   "execution_count": 180,
   "metadata": {},
   "outputs": [
    {
     "name": "stdout",
     "output_type": "stream",
     "text": [
      "       year state_po        party  percvotes\n",
      "0      1976       AL     democrat   0.374792\n",
      "1      1976       AL   republican   0.625164\n",
      "2      1976       AL          NaN   0.000045\n",
      "3      1976       AL     democrat   0.423939\n",
      "4      1976       AL          NaN   0.000032\n",
      "...     ...      ...          ...        ...\n",
      "29631  2018       MD          NaN   0.001028\n",
      "29632  2018       MD     democrat   0.681674\n",
      "29633  2018       MD  libertarian   0.015197\n",
      "29634  2018       MD   republican   0.302274\n",
      "29635  2018       MD          NaN   0.000855\n",
      "\n",
      "[29636 rows x 4 columns]\n"
     ]
    }
   ],
   "source": [
    "#select columns, create calculated columns and drop others\n",
    "results = results[['year', 'state_po', 'party', 'candidatevotes', 'totalvotes']]\n",
    "results['percvotes'] = results['candidatevotes'] / results['totalvotes']\n",
    "results.drop('candidatevotes', axis = 'columns', inplace = True)\n",
    "results.drop('totalvotes', axis = 'columns', inplace = True)\n",
    "print(results)"
   ]
  },
  {
   "cell_type": "code",
   "execution_count": 181,
   "metadata": {},
   "outputs": [
    {
     "name": "stdout",
     "output_type": "stream",
     "text": [
      "       year state_po       party  percvotes\n",
      "0      1976       AL    democrat   0.374792\n",
      "1      1976       AL  republican   0.625164\n",
      "2      1976       AL       other   0.000045\n",
      "3      1976       AL    democrat   0.423939\n",
      "4      1976       AL       other   0.000032\n",
      "...     ...      ...         ...        ...\n",
      "29631  2018       MD       other   0.001028\n",
      "29632  2018       MD    democrat   0.681674\n",
      "29633  2018       MD       other   0.015197\n",
      "29634  2018       MD  republican   0.302274\n",
      "29635  2018       MD       other   0.000855\n",
      "\n",
      "[29636 rows x 4 columns]\n"
     ]
    }
   ],
   "source": [
    "#delete other parties\n",
    "vals = ['republican', 'democrat']\n",
    "results['party'] = results.party.where(results.party.isin(vals), 'other')\n",
    "print (results)\n"
   ]
  },
  {
   "cell_type": "code",
   "execution_count": 182,
   "metadata": {},
   "outputs": [
    {
     "name": "stdout",
     "output_type": "stream",
     "text": [
      "party          democrat     other  republican\n",
      "year state_po                                \n",
      "1976 AK        0.289270  0.002470    0.708260\n",
      "     AL        0.717011  0.002097    0.491038\n",
      "     AR        0.850790  0.000048    0.482528\n",
      "     AZ        0.486595  0.035406    0.469147\n",
      "     CA        0.582357  0.033747    0.415535\n",
      "...                 ...       ...         ...\n",
      "2018 VT        0.692040  0.016148    0.259515\n",
      "     WA        0.565196  0.287098    0.436968\n",
      "     WI        0.540230  0.009180    0.511027\n",
      "     WV        0.406757  0.030651    0.583026\n",
      "     WY        0.297662  0.022160    0.635857\n",
      "\n",
      "[1100 rows x 3 columns]\n"
     ]
    }
   ],
   "source": [
    "#pivot table to calculate state preferred party\n",
    "pivot = pd.pivot_table(results, values = 'percvotes', index = ['year', 'state_po'], columns = 'party')\n",
    "print(pivot)"
   ]
  },
  {
   "cell_type": "code",
   "execution_count": 183,
   "metadata": {},
   "outputs": [
    {
     "name": "stdout",
     "output_type": "stream",
     "text": [
      "party          democrat     other  republican         win       max\n",
      "year state_po                                                      \n",
      "1976 AK        0.289270  0.002470    0.708260  republican  0.708260\n",
      "     AL        0.717011  0.002097    0.491038    democrat  0.717011\n",
      "     AR        0.850790  0.000048    0.482528    democrat  0.850790\n",
      "     AZ        0.486595  0.035406    0.469147    democrat  0.486595\n",
      "     CA        0.582357  0.033747    0.415535    democrat  0.582357\n",
      "...                 ...       ...         ...         ...       ...\n",
      "2018 VT        0.692040  0.016148    0.259515    democrat  0.692040\n",
      "     WA        0.565196  0.287098    0.436968    democrat  0.565196\n",
      "     WI        0.540230  0.009180    0.511027    democrat  0.540230\n",
      "     WV        0.406757  0.030651    0.583026  republican  0.583026\n",
      "     WY        0.297662  0.022160    0.635857  republican  0.635857\n",
      "\n",
      "[1100 rows x 5 columns]\n"
     ]
    }
   ],
   "source": [
    "#winning party\n",
    "pivot['win'] = pivot.idxmax(axis=1)\n",
    "pivot['max'] = pivot[['democrat', 'other', 'republican']].max(axis=1)\n",
    "print(pivot)"
   ]
  },
  {
   "cell_type": "code",
   "execution_count": 184,
   "metadata": {},
   "outputs": [
    {
     "name": "stdout",
     "output_type": "stream",
     "text": [
      "party          democrat     other  republican         win       max  partywin\n",
      "year state_po                                                                \n",
      "1976 AK        0.289270  0.002470    0.708260  republican  0.708260  0.708260\n",
      "     AL        0.717011  0.002097    0.491038    democrat  0.717011 -0.717011\n",
      "     AR        0.850790  0.000048    0.482528    democrat  0.850790 -0.850790\n",
      "     AZ        0.486595  0.035406    0.469147    democrat  0.486595 -0.486595\n",
      "     CA        0.582357  0.033747    0.415535    democrat  0.582357 -0.582357\n",
      "...                 ...       ...         ...         ...       ...       ...\n",
      "2018 VT        0.692040  0.016148    0.259515    democrat  0.692040 -0.692040\n",
      "     WA        0.565196  0.287098    0.436968    democrat  0.565196 -0.565196\n",
      "     WI        0.540230  0.009180    0.511027    democrat  0.540230 -0.540230\n",
      "     WV        0.406757  0.030651    0.583026  republican  0.583026  0.583026\n",
      "     WY        0.297662  0.022160    0.635857  republican  0.635857  0.635857\n",
      "\n",
      "[1100 rows x 6 columns]\n"
     ]
    }
   ],
   "source": [
    "#create a new column to plot party\n",
    "pivot.loc[pivot['win'] == 'democrat', 'partywin'] = 0 - pivot['max'] \n",
    "pivot.loc[pivot['win'] == 'republican', 'partywin'] = 0 + pivot['max'] \n",
    "pivot.loc[pivot['win'] == 'other', 'partywin'] = 0 \n",
    "print(pivot)"
   ]
  },
  {
   "cell_type": "code",
   "execution_count": 185,
   "metadata": {},
   "outputs": [
    {
     "name": "stdout",
     "output_type": "stream",
     "text": [
      "party          partywin\n",
      "year state_po          \n",
      "1976 AK        0.708260\n",
      "     AL       -0.717011\n",
      "     AR       -0.850790\n",
      "     AZ       -0.486595\n",
      "     CA       -0.582357\n",
      "...                 ...\n",
      "2018 VT       -0.692040\n",
      "     WA       -0.565196\n",
      "     WI       -0.540230\n",
      "     WV        0.583026\n",
      "     WY        0.635857\n",
      "\n",
      "[1100 rows x 1 columns]\n"
     ]
    }
   ],
   "source": [
    "#drop unneeded table columns\n",
    "pivot.drop('democrat', axis = 'columns', inplace = True)\n",
    "pivot.drop('other', axis = 'columns', inplace = True)\n",
    "pivot.drop('republican', axis = 'columns', inplace = True)\n",
    "pivot.drop('win', axis = 'columns', inplace = True)\n",
    "pivot.drop('max', axis = 'columns', inplace = True)\n",
    "print(pivot)"
   ]
  },
  {
   "cell_type": "code",
   "execution_count": 186,
   "metadata": {},
   "outputs": [
    {
     "name": "stdout",
     "output_type": "stream",
     "text": [
      "party     partywin                                                    \\\n",
      "year          1976      1978      1980      1982      1984      1986   \n",
      "state_po                                                               \n",
      "AK        0.708260  0.554092  0.737877  0.708367  0.550202  0.564681   \n",
      "AL       -0.717011 -0.730010 -0.743609 -0.734658 -0.765795 -0.671267   \n",
      "AR       -0.850790 -0.675806  0.894605 -0.526413 -0.807307 -0.593943   \n",
      "AZ       -0.486595  0.598356  0.515626  0.541251  0.751829  0.648066   \n",
      "CA       -0.582357 -0.547657 -0.479679 -0.519441 -0.530426 -0.536616   \n",
      "CO        0.526244  0.508189  0.526763  0.516831  0.630009  0.554803   \n",
      "CT       -0.505308 -0.576199 -0.515994 -0.538246  0.531628 -0.554349   \n",
      "DE        0.514383  0.581909  0.617994 -0.523933 -0.584617 -0.661564   \n",
      "FL       -0.675991 -0.717166 -0.622450 -0.655305 -0.645949 -0.716723   \n",
      "GA       -0.778672 -0.845338 -0.748898 -0.764016 -0.763373 -0.782251   \n",
      "HI       -0.615757 -0.794960 -0.848304 -0.895707 -0.824565 -0.567530   \n",
      "IA       -0.571845  0.501078 -0.511484 -0.526083  0.532398  0.524786   \n",
      "ID        0.525948  0.586149  0.562635  0.529817  0.592957  0.553831   \n",
      "IL       -0.536444 -0.517348 -0.500865 -0.573973 -0.525289 -0.560356   \n",
      "IN       -0.571558 -0.528465 -0.501523  0.504355  0.521246 -0.511698   \n",
      "KS        0.596668  0.679067  0.553807  0.524546  0.537670  0.624902   \n",
      "KY       -0.633636 -0.633114 -0.622037 -0.628308 -0.574292 -0.703725   \n",
      "LA       -0.664208 -0.900203  0.489136 -1.000000 -1.000000  0.837863   \n",
      "MA       -0.702341 -0.759606 -0.686785 -0.781359 -0.709009 -0.672159   \n",
      "MD       -0.623655 -0.684603 -0.639469 -0.685196 -0.647217 -0.656756   \n",
      "ME        0.672431  0.561484  0.734939  0.584979  0.696212  0.605308   \n",
      "MI       -0.576282 -0.597683 -0.582696 -0.617347 -0.566860 -0.592172   \n",
      "MN       -0.588784  0.526212  0.510026 -0.548847 -0.543759 -0.605201   \n",
      "MO       -0.578052 -0.633025 -0.555972 -0.572280 -0.562261 -0.594780   \n",
      "MS       -0.620703 -0.617638 -0.576079 -0.572656 -0.615765 -0.614588   \n",
      "MT       -0.557454 -0.502203 -0.511817 -0.519534 -0.498627 -0.540999   \n",
      "NC       -0.672724 -0.659377 -0.581604 -0.544019 -0.530840 -0.574792   \n",
      "ND        0.624456  0.670461 -0.567897 -0.716064 -0.786994 -0.755194   \n",
      "NE        0.638121  0.619434  0.718825  0.771657  0.740816  0.642458   \n",
      "NH       -0.537969  0.523648  0.516670  0.576922  0.673945  0.652726   \n",
      "NJ       -0.559016 -0.558099 -0.501175 -0.579495 -0.520669 -0.545992   \n",
      "NM        0.508787 -0.687361  0.445093 -0.512181  0.590022  0.541565   \n",
      "NV       -0.770508 -0.724245 -0.699520 -0.494296  0.568266  0.512250   \n",
      "NY       -0.578640 -0.570995 -0.518994 -0.568317 -0.522053 -0.576295   \n",
      "OH        0.511347  0.538969  0.563666 -0.550466  0.539803 -0.526289   \n",
      "OK       -0.638828 -0.615579 -0.593350 -0.630309 -0.580785 -0.666283   \n",
      "OR       -0.661336 -0.682262 -0.600423 -0.568705 -0.544137 -0.561990   \n",
      "PA       -0.585944 -0.509650  0.509444 -0.520486 -0.515814  0.574926   \n",
      "RI       -0.694435 -0.569262 -0.561519 -0.525480 -0.504510  0.570626   \n",
      "SC       -0.651606 -0.689236  0.582925 -0.555908  0.534320 -0.648917   \n",
      "SD        0.748210  0.529946 -0.537051 -0.515585 -0.573651 -0.591814   \n",
      "TN       -0.660639 -0.577264 -0.678199 -0.659601 -0.692224 -0.594449   \n",
      "TX       -0.711112 -0.651731 -0.653640 -0.684654 -0.647707 -0.657840   \n",
      "UT       -0.491609  0.542315  0.595613  0.644976  0.650148  0.539584   \n",
      "VA       -0.581986  0.683693  0.734242  0.576679  0.642190 -0.612521   \n",
      "VT        0.673536  0.752585  0.792380  0.692272  0.654118  0.891238   \n",
      "WA       -0.583097 -0.524440 -0.500158 -0.526906 -0.551398 -0.594587   \n",
      "WI       -0.623517 -0.540849 -0.517247 -0.584326  0.546384 -0.601084   \n",
      "WV       -0.692978 -0.694836 -0.578886 -0.638901 -0.612493 -0.764087   \n",
      "WY       -0.564444  0.586310  0.685691  0.710938  0.735663  0.694719   \n",
      "\n",
      "party                                             ...                      \\\n",
      "year          1988      1990      1992      1994  ...      2000      2002   \n",
      "state_po                                          ...                       \n",
      "AK        0.624990  0.516590  0.467760  0.569233  ...  0.695579  0.745131   \n",
      "AL       -0.717910 -0.754423 -0.562161  0.547889  ...  0.696850  0.634694   \n",
      "AR       -0.694904 -0.566474 -0.597155  0.521844  ...  0.578042 -0.734401   \n",
      "AZ        0.645159  0.632562  0.505711  0.568887  ...  0.552879  0.539708   \n",
      "CA       -0.554786 -0.543154 -0.527955 -0.497580  ... -0.565972 -0.544897   \n",
      "CO        0.500873 -0.510151  0.513907  0.658182  ...  0.579677  0.506316   \n",
      "CT        0.507243  0.532352  0.491288  0.480227  ... -0.534238 -0.514207   \n",
      "DE       -0.675166 -0.655305  0.554233  0.707381  ...  0.676395  0.720672   \n",
      "FL       -0.647972  0.602020  0.538708  0.723178  ...  0.635677  0.664117   \n",
      "GA       -0.699899 -0.628085 -0.558283  0.531955  ...  0.607796  0.637982   \n",
      "HI       -0.660480 -0.631346 -0.727588 -0.618827  ... -0.653132 -0.645085   \n",
      "IA        0.517758  0.723484  0.606188  0.574587  ...  0.562019  0.542604   \n",
      "ID        0.497899 -0.583132  0.491226  0.652026  ...  0.677587  0.633783   \n",
      "IL       -0.553499 -0.624779 -0.561425  0.522445  ... -0.596572 -0.555936   \n",
      "IN       -0.528576 -0.559189 -0.549530  0.556873  ...  0.519826  0.548132   \n",
      "KS        0.612987 -0.503074  0.523283  0.631400  ...  0.644888  0.647472   \n",
      "KY        0.598542  0.653198 -0.531754  0.582637  ...  0.580690  0.640505   \n",
      "LA        0.891892  1.000000 -0.728302 -1.000000  ...  0.732154  0.389864   \n",
      "MA       -0.771840 -0.586693 -0.588751 -0.720700  ... -0.720335 -0.690251   \n",
      "MD       -0.639243 -0.563272 -0.554520 -0.524498  ... -0.518481 -0.563465   \n",
      "ME        0.514734 -0.545374 -0.534896 -0.468930  ... -0.666222 -0.579067   \n",
      "MI       -0.561185 -0.578035 -0.523648  0.500870  ... -0.553369  0.527448   \n",
      "MN        0.402310  0.401731  0.000000  0.481523  ...  0.411212  0.425473   \n",
      "MO       -0.561924 -0.542023 -0.541910 -0.510327  ... -0.499086  0.526644   \n",
      "MS       -0.663090 -0.821886 -0.695088 -0.573630  ... -0.512786  0.497485   \n",
      "MT       -0.526246  0.509139 -0.504566 -0.486668  ...  0.514999  0.646201   \n",
      "NC       -0.595884 -0.541388 -0.515246  0.568494  ...  0.553974  0.537642   \n",
      "ND       -0.708653 -0.651896 -0.568225 -0.523109  ... -0.529210 -0.524057   \n",
      "NE        0.650252  0.525359  0.600476  0.637227  ...  0.713525  0.806120   \n",
      "NH        0.585407  0.511545 -0.520711  0.585379  ...  0.545658  0.574580   \n",
      "NJ       -0.523295  0.522196  0.479395  0.515812  ... -0.544084 -0.553446   \n",
      "NM       -0.601940  0.652520  0.496410  0.570890  ... -0.507723 -0.627917   \n",
      "NV       -0.522896 -0.477061 -0.506248  0.559906  ...  0.542104  0.574862   \n",
      "NY       -0.607142 -0.467557 -0.433863 -0.445296  ... -0.459045 -0.436473   \n",
      "OH       -0.525922 -0.539085  0.503273  0.594020  ...  0.501281  0.567362   \n",
      "OK       -0.688592 -0.616187 -0.604919  0.568279  ...  0.650480  0.546269   \n",
      "OR       -0.656208 -0.633203 -0.594329 -0.545081  ... -0.551951 -0.547532   \n",
      "PA       -0.608346 -0.637539 -0.589711 -0.587490  ... -0.569108  0.588717   \n",
      "RI        0.638780 -0.520268 -0.477220 -0.610667  ... -0.644210 -0.680825   \n",
      "SC       -0.557768 -0.706549 -0.535020  0.639434  ...  0.550165  0.683793   \n",
      "SD       -0.717369 -0.675536 -0.691104 -0.598309  ...  0.734154  0.534683   \n",
      "TN       -0.623592 -0.650929 -0.519169  0.554451  ...  0.595655  0.565467   \n",
      "TX       -0.689025 -0.699706 -0.565940 -0.537615  ... -0.574002  0.577105   \n",
      "UT        0.558979 -0.532465  0.496205  0.500754  ...  0.562600  0.590079   \n",
      "VA        0.616572 -0.639524 -0.553953  0.568514  ...  0.607463  0.776559   \n",
      "VT        0.412013  0.395214  0.309078  0.465942  ...  0.183427  0.323247   \n",
      "WA       -0.587095 -0.534840 -0.552825  0.507753  ... -0.524365 -0.518724   \n",
      "WI        0.532045 -0.615494  0.500552  0.626801  ...  0.512477  0.611799   \n",
      "WV       -0.775465 -0.686409 -0.788458 -0.659653  ... -0.750023 -0.699630   \n",
      "WY        0.666194  0.550935  0.578149  0.532251  ...  0.668111  0.605148   \n",
      "\n",
      "party                                                                 \\\n",
      "year          2004      2006      2008      2010      2012      2014   \n",
      "state_po                                                               \n",
      "AK        0.710729  0.565718  0.501420  0.689579  0.639384  0.509657   \n",
      "AL        0.601614  0.731052  0.704012  0.678901  0.656601  0.751333   \n",
      "AR       -0.657076 -0.605730 -0.875716  0.555695  0.617132  0.620681   \n",
      "AZ        0.570483 -0.512647 -0.516136  0.505394  0.543950  0.579629   \n",
      "CA       -0.579817 -0.609693 -0.648758 -0.573824 -0.578603 -0.558981   \n",
      "CO       -0.492804 -0.554100 -0.560282  0.489177 -0.501684  0.502151   \n",
      "CT       -0.553845 -0.609031 -0.595763 -0.557531 -0.602644 -0.557672   \n",
      "DE        0.690862  0.571714  0.610800 -0.567809 -0.644059 -0.592577   \n",
      "FL        0.712920  0.578228  0.519395  0.597983  0.563512  0.593975   \n",
      "GA        0.692704  0.567658  0.550840  0.617151  0.614404  0.759132   \n",
      "HI       -0.628687 -0.651954 -0.701738 -0.627077 -0.651579 -0.635013   \n",
      "IA        0.566044  0.508106 -0.510137  0.542598 -0.502284  0.532029   \n",
      "ID        0.701424  0.559681  0.601433  0.599244  0.640402  0.631846   \n",
      "IL       -0.561877 -0.604107 -0.625021 -0.530498 -0.554281 -0.529138   \n",
      "IN        0.566685  0.494672 -0.525820  0.548004  0.526805  0.580918   \n",
      "KS        0.640832  0.557397  0.588893  0.635229  0.719211  0.629237   \n",
      "KY        0.649839  0.577223  0.566736  0.633090  0.598452  0.639757   \n",
      "LA        0.504971  0.432933  0.622158  0.689004  0.402427  0.213982   \n",
      "MA       -0.706747 -0.732824 -0.724737 -0.619010 -0.659218 -0.681390   \n",
      "MD       -0.528937 -0.675900 -0.679338 -0.620785 -0.566126 -0.581184   \n",
      "ME       -0.588842 -0.656787 -0.611672 -0.559733 -0.588773 -0.490835   \n",
      "MI       -0.497325 -0.558521 -0.537841  0.503659 -0.511756 -0.499622   \n",
      "MN        0.447802 -0.676056  0.372783 -0.555755 -0.636597 -0.596541   \n",
      "MO        0.532145  0.489864  0.513775  0.565101  0.549318  0.579787   \n",
      "MS       -0.612845 -0.593823 -0.588801  0.532056  0.588756  0.689079   \n",
      "MT        0.643982  0.588794  0.641443  0.604139  0.532513  0.554053   \n",
      "NC        0.506394 -0.549029 -0.547142  0.538763 -0.507060  0.555537   \n",
      "ND       -0.595630 -0.656802 -0.619741  0.549208  0.548931  0.555354   \n",
      "NE        0.675955  0.560036  0.663872  0.674006  0.644193  0.632578   \n",
      "NH        0.607992 -0.519937 -0.541007  0.511913 -0.499609 -0.514894   \n",
      "NJ       -0.557153 -0.609547 -0.585240 -0.510548 -0.569553 -0.534813   \n",
      "NM       -0.513370 -0.549773 -0.561180 -0.511282 -0.543511 -0.518783   \n",
      "NV        0.509112 -0.521200 -0.521716  0.489027 -0.481978  0.532223   \n",
      "NY       -0.504105 -0.563449 -0.531503 -0.581019 -0.562909 -0.525482   \n",
      "OH        0.557318 -0.533092 -0.519517  0.528952  0.538744  0.584468   \n",
      "OK        0.640681  0.566711  0.594649  0.721594  0.645351  0.759076   \n",
      "OR       -0.535679 -0.565783 -0.616785 -0.512736 -0.552647 -0.535128   \n",
      "PA       -0.583498 -0.570085 -0.558851  0.531407 -0.500357  0.584698   \n",
      "RI       -0.692929 -0.709433 -0.692699 -0.551650 -0.543361 -0.608537   \n",
      "SC        0.650345  0.544663  0.499857  0.560462  0.667935  0.651756   \n",
      "SD       -0.533643 -0.690930 -0.675557  0.481185  0.574497  0.665296   \n",
      "TN       -0.525960 -0.512194  0.594524  0.602544  0.600032  0.607725   \n",
      "TX        0.578690  0.487609  0.569271  0.615198  0.566414  0.656243   \n",
      "UT        0.581699  0.526914  0.549799  0.625261  0.646952  0.621809   \n",
      "VA        0.603944  0.563922 -0.558055  0.539075  0.500253  0.578351   \n",
      "VT        0.243505 -0.532170 -0.832474 -0.645671 -0.719482 -0.644107   \n",
      "WA       -0.583895 -0.603280 -0.587748 -0.520302 -0.535735 -0.555124   \n",
      "WI        0.539432 -0.549777 -0.579760  0.536610 -0.506476 -0.471694   \n",
      "WV       -0.580884 -0.588241 -0.699250  0.542729  0.594227  0.554441   \n",
      "WY        0.552372  0.475682  0.525870  0.689968  0.663949  0.660450   \n",
      "\n",
      "party                         \n",
      "year          2016      2018  \n",
      "state_po                      \n",
      "AK        0.503209  0.530819  \n",
      "AL        0.753008  0.663725  \n",
      "AR        0.717113  0.631397  \n",
      "AZ       -0.538507 -0.532831  \n",
      "CA       -0.578659 -0.635270  \n",
      "CO        0.480016 -0.529838  \n",
      "CT       -0.582191 -0.586003  \n",
      "DE       -0.555265 -0.644540  \n",
      "FL        0.527748 -0.560832  \n",
      "GA        0.665240  0.575625  \n",
      "HI       -0.721636 -0.752289  \n",
      "IA        0.536546 -0.505160  \n",
      "ID        0.655494  0.617122  \n",
      "IL       -0.620905 -0.618457  \n",
      "IN        0.597603  0.550166  \n",
      "KS        0.597014  0.547827  \n",
      "KY        0.735786  0.606751  \n",
      "LA        0.225583  0.566949  \n",
      "MA       -0.697101 -0.801827  \n",
      "MD       -0.608462 -0.656416  \n",
      "ME       -0.497568 -0.541514  \n",
      "MI       -0.478054 -0.534957  \n",
      "MN       -0.559626  0.440695  \n",
      "MO        0.577886  0.548066  \n",
      "MS        0.572778  0.658094  \n",
      "MT        0.561915  0.508823  \n",
      "NC        0.535739  0.520086  \n",
      "ND        0.691310  0.602018  \n",
      "NE        0.727939  0.626919  \n",
      "NH       -0.470170 -0.545524  \n",
      "NJ       -0.551434 -0.619433  \n",
      "NM       -0.549378 -0.578139  \n",
      "NV       -0.486383 -0.529393  \n",
      "NY       -0.557430 -0.664388  \n",
      "OH        0.566267  0.514961  \n",
      "OK        0.751236  0.621118  \n",
      "OR       -0.536855 -0.573265  \n",
      "PA        0.573461 -0.548939  \n",
      "RI       -0.612953 -0.650923  \n",
      "SC        0.580880  0.539498  \n",
      "SD        0.641028  0.603468  \n",
      "TN        0.615346  0.583820  \n",
      "TX        0.579386  0.531771  \n",
      "UT        0.636873  0.587800  \n",
      "VA        0.527223 -0.568015  \n",
      "VT       -0.825090 -0.692040  \n",
      "WA       -0.530926 -0.565196  \n",
      "WI        0.573807 -0.540230  \n",
      "WV        0.650122  0.583026  \n",
      "WY        0.603490  0.635857  \n",
      "\n",
      "[50 rows x 22 columns]\n"
     ]
    }
   ],
   "source": [
    "df = pivot.unstack(level=0)\n",
    "print(df)"
   ]
  },
  {
   "cell_type": "code",
   "execution_count": 175,
   "metadata": {},
   "outputs": [
    {
     "data": {
      "image/png": "[encoded data removed]",
      "text/plain": [
       "<Figure size 792x648 with 1 Axes>"
      ]
     },
     "metadata": {
      "needs_background": "light"
     },
     "output_type": "display_data"
    }
   ],
   "source": [
    "fig, ax = plt.subplots(figsize=(11, 9))\n",
    "h = sns.heatmap(df, cmap = 'vlag', xticklabels = 2, yticklabels = 1, cbar = False)\n",
    "plt.title('State voter preference 1976 - 2018', fontsize = 20) # title with fontsize 20\n",
    "plt.xlabel('Years', fontsize = 15) # x-axis label with fontsize 15\n",
    "plt.ylabel('State', fontsize = 15) # y-axis label with fontsize 15\n",
    "plt.xticks(fontsize = 8) \n",
    "plt.yticks(fontsize = 8)\n",
    "\n",
    "plt.show()"
   ]
  },
  {
   "cell_type": "code",
   "execution_count": null,
   "metadata": {},
   "outputs": [],
   "source": []
  }
 ],
 "metadata": {
  "kernelspec": {
   "display_name": "Python 3",
   "language": "python",
   "name": "python3"
  },
  "language_info": {
   "codemirror_mode": {
    "name": "ipython",
    "version": 3
   },
   "file_extension": ".py",
   "mimetype": "text/x-python",
   "name": "python",
   "nbconvert_exporter": "python",
   "pygments_lexer": "ipython3",
   "version": "3.8.3"
  }
 },
 "nbformat": 4,
 "nbformat_minor": 4
}

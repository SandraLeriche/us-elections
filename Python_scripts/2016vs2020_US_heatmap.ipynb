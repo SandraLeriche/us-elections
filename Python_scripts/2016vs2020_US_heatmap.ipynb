{
 "cells": [
  {
   "cell_type": "markdown",
   "metadata": {},
   "source": [
    "## Heatmap of 2020 Presidential Polls on US map"
   ]
  },
  {
   "cell_type": "markdown",
   "metadata": {},
   "source": [
    "### load packages"
   ]
  },
  {
   "cell_type": "code",
   "execution_count": 2,
   "metadata": {},
   "outputs": [],
   "source": [
    "import pandas as pd\n",
    "import numpy as np\n",
    "import matplotlib.pyplot as plt\n",
    "import plotly.express as px\n",
    "import plotly.graph_objects as go"
   ]
  },
  {
   "cell_type": "markdown",
   "metadata": {},
   "source": [
    "### load csv file"
   ]
  },
  {
   "cell_type": "code",
   "execution_count": 3,
   "metadata": {},
   "outputs": [],
   "source": [
    "pres_polls_df = pd.read_csv('../data/clean_data/2020/pres_polls_20201011.csv',sep=';')"
   ]
  },
  {
   "cell_type": "code",
   "execution_count": 4,
   "metadata": {},
   "outputs": [
    {
     "output_type": "execute_result",
     "data": {
      "text/plain": [
       "     STATE STATE ABBREVIATION FIRST NAME  LAST NAME LAST NAME,  FIRST PARTY  \\\n",
       "0  Alabama                 AL  Donald J.      Trump  Trump, Donald J.   REP   \n",
       "1  Alabama                 AL    Hillary    Clinton  Clinton, Hillary   DEM   \n",
       "2  Alabama                 AL       Gary    Johnson     Johnson, Gary   IND   \n",
       "3  Alabama                 AL        NaN  Scattered       Scattered,      W   \n",
       "4  Alabama                 AL       Jill      Stein       Stein, Jill   IND   \n",
       "\n",
       "   GENERAL RESULTS  GENERAL % WINNER INDICATOR  \n",
       "0        1318255.0   0.620831                W  \n",
       "1         729547.0   0.343579              NaN  \n",
       "2          44467.0   0.020942              NaN  \n",
       "3          21712.0   0.010225              NaN  \n",
       "4           9391.0   0.004423              NaN  "
      ],
      "text/html": "<div>\n<style scoped>\n    .dataframe tbody tr th:only-of-type {\n        vertical-align: middle;\n    }\n\n    .dataframe tbody tr th {\n        vertical-align: top;\n    }\n\n    .dataframe thead th {\n        text-align: right;\n    }\n</style>\n<table border=\"1\" class=\"dataframe\">\n  <thead>\n    <tr style=\"text-align: right;\">\n      <th></th>\n      <th>STATE</th>\n      <th>STATE ABBREVIATION</th>\n      <th>FIRST NAME</th>\n      <th>LAST NAME</th>\n      <th>LAST NAME,  FIRST</th>\n      <th>PARTY</th>\n      <th>GENERAL RESULTS</th>\n      <th>GENERAL %</th>\n      <th>WINNER INDICATOR</th>\n    </tr>\n  </thead>\n  <tbody>\n    <tr>\n      <th>0</th>\n      <td>Alabama</td>\n      <td>AL</td>\n      <td>Donald J.</td>\n      <td>Trump</td>\n      <td>Trump, Donald J.</td>\n      <td>REP</td>\n      <td>1318255.0</td>\n      <td>0.620831</td>\n      <td>W</td>\n    </tr>\n    <tr>\n      <th>1</th>\n      <td>Alabama</td>\n      <td>AL</td>\n      <td>Hillary</td>\n      <td>Clinton</td>\n      <td>Clinton, Hillary</td>\n      <td>DEM</td>\n      <td>729547.0</td>\n      <td>0.343579</td>\n      <td>NaN</td>\n    </tr>\n    <tr>\n      <th>2</th>\n      <td>Alabama</td>\n      <td>AL</td>\n      <td>Gary</td>\n      <td>Johnson</td>\n      <td>Johnson, Gary</td>\n      <td>IND</td>\n      <td>44467.0</td>\n      <td>0.020942</td>\n      <td>NaN</td>\n    </tr>\n    <tr>\n      <th>3</th>\n      <td>Alabama</td>\n      <td>AL</td>\n      <td>NaN</td>\n      <td>Scattered</td>\n      <td>Scattered,</td>\n      <td>W</td>\n      <td>21712.0</td>\n      <td>0.010225</td>\n      <td>NaN</td>\n    </tr>\n    <tr>\n      <th>4</th>\n      <td>Alabama</td>\n      <td>AL</td>\n      <td>Jill</td>\n      <td>Stein</td>\n      <td>Stein, Jill</td>\n      <td>IND</td>\n      <td>9391.0</td>\n      <td>0.004423</td>\n      <td>NaN</td>\n    </tr>\n  </tbody>\n</table>\n</div>"
     },
     "metadata": {},
     "execution_count": 4
    }
   ],
   "source": [
    "xls = pd.ExcelFile('../ERD/data_ERD/Important tables-2016.xlsx')\n",
    "pres_res = pd.read_excel(xls, '2016 pres results')\n",
    "state_abbrev = pres_res.copy()\n",
    "state_abbrev.head()"
   ]
  },
  {
   "cell_type": "code",
   "execution_count": 5,
   "metadata": {},
   "outputs": [
    {
     "output_type": "execute_result",
     "data": {
      "text/plain": [
       "     State  Dem  GOP\n",
       "0  Alabama   37   57\n",
       "1  Alabama   36   58\n",
       "2  Alabama   41   55\n",
       "3  Alabama   38   58\n",
       "4   Alaska   46   50"
      ],
      "text/html": "<div>\n<style scoped>\n    .dataframe tbody tr th:only-of-type {\n        vertical-align: middle;\n    }\n\n    .dataframe tbody tr th {\n        vertical-align: top;\n    }\n\n    .dataframe thead th {\n        text-align: right;\n    }\n</style>\n<table border=\"1\" class=\"dataframe\">\n  <thead>\n    <tr style=\"text-align: right;\">\n      <th></th>\n      <th>State</th>\n      <th>Dem</th>\n      <th>GOP</th>\n    </tr>\n  </thead>\n  <tbody>\n    <tr>\n      <th>0</th>\n      <td>Alabama</td>\n      <td>37</td>\n      <td>57</td>\n    </tr>\n    <tr>\n      <th>1</th>\n      <td>Alabama</td>\n      <td>36</td>\n      <td>58</td>\n    </tr>\n    <tr>\n      <th>2</th>\n      <td>Alabama</td>\n      <td>41</td>\n      <td>55</td>\n    </tr>\n    <tr>\n      <th>3</th>\n      <td>Alabama</td>\n      <td>38</td>\n      <td>58</td>\n    </tr>\n    <tr>\n      <th>4</th>\n      <td>Alaska</td>\n      <td>46</td>\n      <td>50</td>\n    </tr>\n  </tbody>\n</table>\n</div>"
     },
     "metadata": {},
     "execution_count": 5
    }
   ],
   "source": [
    "# remove columns in pres_polls_df - updated to one line for ease\n",
    "pres_polls_df.drop(['id', 'Day', 'Len', 'Ind', 'EV', 'Date', 'Pollster'], axis='columns', inplace=True)\n",
    "pres_polls_df.head()"
   ]
  },
  {
   "cell_type": "code",
   "execution_count": 6,
   "metadata": {},
   "outputs": [
    {
     "output_type": "execute_result",
     "data": {
      "text/plain": [
       "                   State State_Abbreviation\n",
       "0                Alabama                 AL\n",
       "1                 Alaska                 AK\n",
       "2                Arizona                 AZ\n",
       "3               Arkansas                 AR\n",
       "4             California                 CA\n",
       "5               Colorado                 CO\n",
       "6            Connecticut                 CT\n",
       "7               Delaware                 DE\n",
       "8   District of Columbia                 DC\n",
       "9                Florida                 FL\n",
       "10               Georgia                 GA\n",
       "11                Hawaii                 HI\n",
       "12                 Idaho                 ID\n",
       "13              Illinois                 IL\n",
       "14               Indiana                 IN\n",
       "15                  Iowa                 IA\n",
       "16                Kansas                 KS\n",
       "17              Kentucky                 KY\n",
       "18             Louisiana                 LA\n",
       "19                 Maine                 ME\n",
       "20              Maryland                 MD\n",
       "21         Massachusetts                 MA\n",
       "22              Michigan                 MI\n",
       "23             Minnesota                 MN\n",
       "24           Mississippi                 MS\n",
       "25              Missouri                 MO\n",
       "26               Montana                 MT\n",
       "27              Nebraska                 NE\n",
       "28                Nevada                 NV\n",
       "29         New Hampshire                 NH\n",
       "30            New Jersey                 NJ\n",
       "31            New Mexico                 NM\n",
       "32              New York                 NY\n",
       "33        North Carolina                 NC\n",
       "34          North Dakota                 ND\n",
       "35                  Ohio                 OH\n",
       "36              Oklahoma                 OK\n",
       "37                Oregon                 OR\n",
       "38          Pennsylvania                 PA\n",
       "39          Rhode Island                 RI\n",
       "40        South Carolina                 SC\n",
       "41          South Dakota                 SD\n",
       "42             Tennessee                 TN\n",
       "43                 Texas                 TX\n",
       "44                  Utah                 UT\n",
       "45               Vermont                 VT\n",
       "46              Virginia                 VA\n",
       "47            Washington                 WA\n",
       "48         West Virginia                 WV\n",
       "49             Wisconsin                 WI\n",
       "50               Wyoming                 WY"
      ],
      "text/html": "<div>\n<style scoped>\n    .dataframe tbody tr th:only-of-type {\n        vertical-align: middle;\n    }\n\n    .dataframe tbody tr th {\n        vertical-align: top;\n    }\n\n    .dataframe thead th {\n        text-align: right;\n    }\n</style>\n<table border=\"1\" class=\"dataframe\">\n  <thead>\n    <tr style=\"text-align: right;\">\n      <th></th>\n      <th>State</th>\n      <th>State_Abbreviation</th>\n    </tr>\n  </thead>\n  <tbody>\n    <tr>\n      <th>0</th>\n      <td>Alabama</td>\n      <td>AL</td>\n    </tr>\n    <tr>\n      <th>1</th>\n      <td>Alaska</td>\n      <td>AK</td>\n    </tr>\n    <tr>\n      <th>2</th>\n      <td>Arizona</td>\n      <td>AZ</td>\n    </tr>\n    <tr>\n      <th>3</th>\n      <td>Arkansas</td>\n      <td>AR</td>\n    </tr>\n    <tr>\n      <th>4</th>\n      <td>California</td>\n      <td>CA</td>\n    </tr>\n    <tr>\n      <th>5</th>\n      <td>Colorado</td>\n      <td>CO</td>\n    </tr>\n    <tr>\n      <th>6</th>\n      <td>Connecticut</td>\n      <td>CT</td>\n    </tr>\n    <tr>\n      <th>7</th>\n      <td>Delaware</td>\n      <td>DE</td>\n    </tr>\n    <tr>\n      <th>8</th>\n      <td>District of Columbia</td>\n      <td>DC</td>\n    </tr>\n    <tr>\n      <th>9</th>\n      <td>Florida</td>\n      <td>FL</td>\n    </tr>\n    <tr>\n      <th>10</th>\n      <td>Georgia</td>\n      <td>GA</td>\n    </tr>\n    <tr>\n      <th>11</th>\n      <td>Hawaii</td>\n      <td>HI</td>\n    </tr>\n    <tr>\n      <th>12</th>\n      <td>Idaho</td>\n      <td>ID</td>\n    </tr>\n    <tr>\n      <th>13</th>\n      <td>Illinois</td>\n      <td>IL</td>\n    </tr>\n    <tr>\n      <th>14</th>\n      <td>Indiana</td>\n      <td>IN</td>\n    </tr>\n    <tr>\n      <th>15</th>\n      <td>Iowa</td>\n      <td>IA</td>\n    </tr>\n    <tr>\n      <th>16</th>\n      <td>Kansas</td>\n      <td>KS</td>\n    </tr>\n    <tr>\n      <th>17</th>\n      <td>Kentucky</td>\n      <td>KY</td>\n    </tr>\n    <tr>\n      <th>18</th>\n      <td>Louisiana</td>\n      <td>LA</td>\n    </tr>\n    <tr>\n      <th>19</th>\n      <td>Maine</td>\n      <td>ME</td>\n    </tr>\n    <tr>\n      <th>20</th>\n      <td>Maryland</td>\n      <td>MD</td>\n    </tr>\n    <tr>\n      <th>21</th>\n      <td>Massachusetts</td>\n      <td>MA</td>\n    </tr>\n    <tr>\n      <th>22</th>\n      <td>Michigan</td>\n      <td>MI</td>\n    </tr>\n    <tr>\n      <th>23</th>\n      <td>Minnesota</td>\n      <td>MN</td>\n    </tr>\n    <tr>\n      <th>24</th>\n      <td>Mississippi</td>\n      <td>MS</td>\n    </tr>\n    <tr>\n      <th>25</th>\n      <td>Missouri</td>\n      <td>MO</td>\n    </tr>\n    <tr>\n      <th>26</th>\n      <td>Montana</td>\n      <td>MT</td>\n    </tr>\n    <tr>\n      <th>27</th>\n      <td>Nebraska</td>\n      <td>NE</td>\n    </tr>\n    <tr>\n      <th>28</th>\n      <td>Nevada</td>\n      <td>NV</td>\n    </tr>\n    <tr>\n      <th>29</th>\n      <td>New Hampshire</td>\n      <td>NH</td>\n    </tr>\n    <tr>\n      <th>30</th>\n      <td>New Jersey</td>\n      <td>NJ</td>\n    </tr>\n    <tr>\n      <th>31</th>\n      <td>New Mexico</td>\n      <td>NM</td>\n    </tr>\n    <tr>\n      <th>32</th>\n      <td>New York</td>\n      <td>NY</td>\n    </tr>\n    <tr>\n      <th>33</th>\n      <td>North Carolina</td>\n      <td>NC</td>\n    </tr>\n    <tr>\n      <th>34</th>\n      <td>North Dakota</td>\n      <td>ND</td>\n    </tr>\n    <tr>\n      <th>35</th>\n      <td>Ohio</td>\n      <td>OH</td>\n    </tr>\n    <tr>\n      <th>36</th>\n      <td>Oklahoma</td>\n      <td>OK</td>\n    </tr>\n    <tr>\n      <th>37</th>\n      <td>Oregon</td>\n      <td>OR</td>\n    </tr>\n    <tr>\n      <th>38</th>\n      <td>Pennsylvania</td>\n      <td>PA</td>\n    </tr>\n    <tr>\n      <th>39</th>\n      <td>Rhode Island</td>\n      <td>RI</td>\n    </tr>\n    <tr>\n      <th>40</th>\n      <td>South Carolina</td>\n      <td>SC</td>\n    </tr>\n    <tr>\n      <th>41</th>\n      <td>South Dakota</td>\n      <td>SD</td>\n    </tr>\n    <tr>\n      <th>42</th>\n      <td>Tennessee</td>\n      <td>TN</td>\n    </tr>\n    <tr>\n      <th>43</th>\n      <td>Texas</td>\n      <td>TX</td>\n    </tr>\n    <tr>\n      <th>44</th>\n      <td>Utah</td>\n      <td>UT</td>\n    </tr>\n    <tr>\n      <th>45</th>\n      <td>Vermont</td>\n      <td>VT</td>\n    </tr>\n    <tr>\n      <th>46</th>\n      <td>Virginia</td>\n      <td>VA</td>\n    </tr>\n    <tr>\n      <th>47</th>\n      <td>Washington</td>\n      <td>WA</td>\n    </tr>\n    <tr>\n      <th>48</th>\n      <td>West Virginia</td>\n      <td>WV</td>\n    </tr>\n    <tr>\n      <th>49</th>\n      <td>Wisconsin</td>\n      <td>WI</td>\n    </tr>\n    <tr>\n      <th>50</th>\n      <td>Wyoming</td>\n      <td>WY</td>\n    </tr>\n  </tbody>\n</table>\n</div>"
     },
     "metadata": {},
     "execution_count": 6
    }
   ],
   "source": [
    "# drop columns, rename columns, remove duplicates, reset index in state_abbrev\n",
    "state_abbrev.drop(state_abbrev.columns[2:9], axis='columns', inplace=True)\n",
    "state_abbrev.rename(columns={'STATE':'State'}, inplace=True)\n",
    "state_abbrev.rename(columns={'STATE ABBREVIATION':'State_Abbreviation'}, inplace=True)\n",
    "state_abbrev = state_abbrev.drop_duplicates('State')\n",
    "state_abbrev = state_abbrev.reset_index(drop=True)\n",
    "state_abbrev"
   ]
  },
  {
   "cell_type": "code",
   "execution_count": 7,
   "metadata": {},
   "outputs": [
    {
     "output_type": "execute_result",
     "data": {
      "text/plain": [
       "             State  Dem  GOP\n",
       "0          Alabama   38   57\n",
       "1           Alaska   45   49\n",
       "2          Arizona   48   43\n",
       "3         Arkansas   45   47\n",
       "4       California   60   30\n",
       "5         Colorado   51   39\n",
       "6      Connecticut   51   33\n",
       "7             D.C.   93    4\n",
       "8         Delaware   56   36\n",
       "9          Florida   48   44\n",
       "10         Georgia   46   46\n",
       "11          Hawaii   65   28\n",
       "12           Idaho   29   58\n",
       "13        Illinois   53   40\n",
       "14         Indiana   38   52\n",
       "15            Iowa   45   46\n",
       "16          Kansas   41   50\n",
       "17        Kentucky   37   55\n",
       "18       Louisiana   38   58\n",
       "19           Maine   51   39\n",
       "20        Maryland   60   32\n",
       "21   Massachusetts   63   29\n",
       "22        Michigan   49   41\n",
       "23       Minnesota   49   42\n",
       "24     Mississippi   41   56\n",
       "25        Missouri   43   50\n",
       "26         Montana   41   50\n",
       "27        Nebraska   33   61\n",
       "28          Nevada   46   40\n",
       "29   New Hampshire   50   43\n",
       "30      New Jersey   53   35\n",
       "31      New Mexico   53   40\n",
       "32        New York   58   31\n",
       "33  North Carolina   47   45\n",
       "34    North Dakota   38   56\n",
       "35            Ohio   46   45\n",
       "36        Oklahoma   34   58\n",
       "37          Oregon   53   39\n",
       "38    Pennsylvania   49   43\n",
       "39    Rhode Island   55   40\n",
       "40  South Carolina   43   50\n",
       "41    South Dakota   32   62\n",
       "42       Tennessee   39   53\n",
       "43           Texas   45   47\n",
       "44            Utah   36   48\n",
       "45         Vermont   56   32\n",
       "46        Virginia   50   39\n",
       "47      Washington   57   34\n",
       "48   West Virginia   38   56\n",
       "49       Wisconsin   48   42\n",
       "50         Wyoming   23   70"
      ],
      "text/html": "<div>\n<style scoped>\n    .dataframe tbody tr th:only-of-type {\n        vertical-align: middle;\n    }\n\n    .dataframe tbody tr th {\n        vertical-align: top;\n    }\n\n    .dataframe thead th {\n        text-align: right;\n    }\n</style>\n<table border=\"1\" class=\"dataframe\">\n  <thead>\n    <tr style=\"text-align: right;\">\n      <th></th>\n      <th>State</th>\n      <th>Dem</th>\n      <th>GOP</th>\n    </tr>\n  </thead>\n  <tbody>\n    <tr>\n      <th>0</th>\n      <td>Alabama</td>\n      <td>38</td>\n      <td>57</td>\n    </tr>\n    <tr>\n      <th>1</th>\n      <td>Alaska</td>\n      <td>45</td>\n      <td>49</td>\n    </tr>\n    <tr>\n      <th>2</th>\n      <td>Arizona</td>\n      <td>48</td>\n      <td>43</td>\n    </tr>\n    <tr>\n      <th>3</th>\n      <td>Arkansas</td>\n      <td>45</td>\n      <td>47</td>\n    </tr>\n    <tr>\n      <th>4</th>\n      <td>California</td>\n      <td>60</td>\n      <td>30</td>\n    </tr>\n    <tr>\n      <th>5</th>\n      <td>Colorado</td>\n      <td>51</td>\n      <td>39</td>\n    </tr>\n    <tr>\n      <th>6</th>\n      <td>Connecticut</td>\n      <td>51</td>\n      <td>33</td>\n    </tr>\n    <tr>\n      <th>7</th>\n      <td>D.C.</td>\n      <td>93</td>\n      <td>4</td>\n    </tr>\n    <tr>\n      <th>8</th>\n      <td>Delaware</td>\n      <td>56</td>\n      <td>36</td>\n    </tr>\n    <tr>\n      <th>9</th>\n      <td>Florida</td>\n      <td>48</td>\n      <td>44</td>\n    </tr>\n    <tr>\n      <th>10</th>\n      <td>Georgia</td>\n      <td>46</td>\n      <td>46</td>\n    </tr>\n    <tr>\n      <th>11</th>\n      <td>Hawaii</td>\n      <td>65</td>\n      <td>28</td>\n    </tr>\n    <tr>\n      <th>12</th>\n      <td>Idaho</td>\n      <td>29</td>\n      <td>58</td>\n    </tr>\n    <tr>\n      <th>13</th>\n      <td>Illinois</td>\n      <td>53</td>\n      <td>40</td>\n    </tr>\n    <tr>\n      <th>14</th>\n      <td>Indiana</td>\n      <td>38</td>\n      <td>52</td>\n    </tr>\n    <tr>\n      <th>15</th>\n      <td>Iowa</td>\n      <td>45</td>\n      <td>46</td>\n    </tr>\n    <tr>\n      <th>16</th>\n      <td>Kansas</td>\n      <td>41</td>\n      <td>50</td>\n    </tr>\n    <tr>\n      <th>17</th>\n      <td>Kentucky</td>\n      <td>37</td>\n      <td>55</td>\n    </tr>\n    <tr>\n      <th>18</th>\n      <td>Louisiana</td>\n      <td>38</td>\n      <td>58</td>\n    </tr>\n    <tr>\n      <th>19</th>\n      <td>Maine</td>\n      <td>51</td>\n      <td>39</td>\n    </tr>\n    <tr>\n      <th>20</th>\n      <td>Maryland</td>\n      <td>60</td>\n      <td>32</td>\n    </tr>\n    <tr>\n      <th>21</th>\n      <td>Massachusetts</td>\n      <td>63</td>\n      <td>29</td>\n    </tr>\n    <tr>\n      <th>22</th>\n      <td>Michigan</td>\n      <td>49</td>\n      <td>41</td>\n    </tr>\n    <tr>\n      <th>23</th>\n      <td>Minnesota</td>\n      <td>49</td>\n      <td>42</td>\n    </tr>\n    <tr>\n      <th>24</th>\n      <td>Mississippi</td>\n      <td>41</td>\n      <td>56</td>\n    </tr>\n    <tr>\n      <th>25</th>\n      <td>Missouri</td>\n      <td>43</td>\n      <td>50</td>\n    </tr>\n    <tr>\n      <th>26</th>\n      <td>Montana</td>\n      <td>41</td>\n      <td>50</td>\n    </tr>\n    <tr>\n      <th>27</th>\n      <td>Nebraska</td>\n      <td>33</td>\n      <td>61</td>\n    </tr>\n    <tr>\n      <th>28</th>\n      <td>Nevada</td>\n      <td>46</td>\n      <td>40</td>\n    </tr>\n    <tr>\n      <th>29</th>\n      <td>New Hampshire</td>\n      <td>50</td>\n      <td>43</td>\n    </tr>\n    <tr>\n      <th>30</th>\n      <td>New Jersey</td>\n      <td>53</td>\n      <td>35</td>\n    </tr>\n    <tr>\n      <th>31</th>\n      <td>New Mexico</td>\n      <td>53</td>\n      <td>40</td>\n    </tr>\n    <tr>\n      <th>32</th>\n      <td>New York</td>\n      <td>58</td>\n      <td>31</td>\n    </tr>\n    <tr>\n      <th>33</th>\n      <td>North Carolina</td>\n      <td>47</td>\n      <td>45</td>\n    </tr>\n    <tr>\n      <th>34</th>\n      <td>North Dakota</td>\n      <td>38</td>\n      <td>56</td>\n    </tr>\n    <tr>\n      <th>35</th>\n      <td>Ohio</td>\n      <td>46</td>\n      <td>45</td>\n    </tr>\n    <tr>\n      <th>36</th>\n      <td>Oklahoma</td>\n      <td>34</td>\n      <td>58</td>\n    </tr>\n    <tr>\n      <th>37</th>\n      <td>Oregon</td>\n      <td>53</td>\n      <td>39</td>\n    </tr>\n    <tr>\n      <th>38</th>\n      <td>Pennsylvania</td>\n      <td>49</td>\n      <td>43</td>\n    </tr>\n    <tr>\n      <th>39</th>\n      <td>Rhode Island</td>\n      <td>55</td>\n      <td>40</td>\n    </tr>\n    <tr>\n      <th>40</th>\n      <td>South Carolina</td>\n      <td>43</td>\n      <td>50</td>\n    </tr>\n    <tr>\n      <th>41</th>\n      <td>South Dakota</td>\n      <td>32</td>\n      <td>62</td>\n    </tr>\n    <tr>\n      <th>42</th>\n      <td>Tennessee</td>\n      <td>39</td>\n      <td>53</td>\n    </tr>\n    <tr>\n      <th>43</th>\n      <td>Texas</td>\n      <td>45</td>\n      <td>47</td>\n    </tr>\n    <tr>\n      <th>44</th>\n      <td>Utah</td>\n      <td>36</td>\n      <td>48</td>\n    </tr>\n    <tr>\n      <th>45</th>\n      <td>Vermont</td>\n      <td>56</td>\n      <td>32</td>\n    </tr>\n    <tr>\n      <th>46</th>\n      <td>Virginia</td>\n      <td>50</td>\n      <td>39</td>\n    </tr>\n    <tr>\n      <th>47</th>\n      <td>Washington</td>\n      <td>57</td>\n      <td>34</td>\n    </tr>\n    <tr>\n      <th>48</th>\n      <td>West Virginia</td>\n      <td>38</td>\n      <td>56</td>\n    </tr>\n    <tr>\n      <th>49</th>\n      <td>Wisconsin</td>\n      <td>48</td>\n      <td>42</td>\n    </tr>\n    <tr>\n      <th>50</th>\n      <td>Wyoming</td>\n      <td>23</td>\n      <td>70</td>\n    </tr>\n  </tbody>\n</table>\n</div>"
     },
     "metadata": {},
     "execution_count": 7
    }
   ],
   "source": [
    "# pivot data to find aggregated mean of the party preference in each State\n",
    "state_avg = pres_polls_df.groupby('State', as_index=False).agg('mean')\n",
    "state_avg['Dem'] = state_avg['Dem'].astype(int)\n",
    "state_avg['GOP'] = state_avg['GOP'].astype(int)\n",
    "state_avg"
   ]
  },
  {
   "cell_type": "code",
   "execution_count": 8,
   "metadata": {},
   "outputs": [
    {
     "output_type": "execute_result",
     "data": {
      "text/plain": [
       "             State  Dem  GOP State_Abbreviation\n",
       "0          Alabama   38   57                 AL\n",
       "1           Alaska   45   49                 AK\n",
       "2          Arizona   48   43                 AZ\n",
       "3         Arkansas   45   47                 AR\n",
       "4       California   60   30                 CA\n",
       "5         Colorado   51   39                 CO\n",
       "6      Connecticut   51   33                 CT\n",
       "7             D.C.   93    4                NaN\n",
       "8         Delaware   56   36                 DE\n",
       "9          Florida   48   44                 FL\n",
       "10         Georgia   46   46                 GA\n",
       "11          Hawaii   65   28                 HI\n",
       "12           Idaho   29   58                 ID\n",
       "13        Illinois   53   40                 IL\n",
       "14         Indiana   38   52                 IN\n",
       "15            Iowa   45   46                 IA\n",
       "16          Kansas   41   50                 KS\n",
       "17        Kentucky   37   55                 KY\n",
       "18       Louisiana   38   58                 LA\n",
       "19           Maine   51   39                 ME\n",
       "20        Maryland   60   32                 MD\n",
       "21   Massachusetts   63   29                 MA\n",
       "22        Michigan   49   41                 MI\n",
       "23       Minnesota   49   42                 MN\n",
       "24     Mississippi   41   56                 MS\n",
       "25        Missouri   43   50                 MO\n",
       "26         Montana   41   50                 MT\n",
       "27        Nebraska   33   61                 NE\n",
       "28          Nevada   46   40                 NV\n",
       "29   New Hampshire   50   43                 NH\n",
       "30      New Jersey   53   35                 NJ\n",
       "31      New Mexico   53   40                 NM\n",
       "32        New York   58   31                 NY\n",
       "33  North Carolina   47   45                 NC\n",
       "34    North Dakota   38   56                 ND\n",
       "35            Ohio   46   45                 OH\n",
       "36        Oklahoma   34   58                 OK\n",
       "37          Oregon   53   39                 OR\n",
       "38    Pennsylvania   49   43                 PA\n",
       "39    Rhode Island   55   40                 RI\n",
       "40  South Carolina   43   50                 SC\n",
       "41    South Dakota   32   62                 SD\n",
       "42       Tennessee   39   53                 TN\n",
       "43           Texas   45   47                 TX\n",
       "44            Utah   36   48                 UT\n",
       "45         Vermont   56   32                 VT\n",
       "46        Virginia   50   39                 VA\n",
       "47      Washington   57   34                 WA\n",
       "48   West Virginia   38   56                 WV\n",
       "49       Wisconsin   48   42                 WI\n",
       "50         Wyoming   23   70                 WY"
      ],
      "text/html": "<div>\n<style scoped>\n    .dataframe tbody tr th:only-of-type {\n        vertical-align: middle;\n    }\n\n    .dataframe tbody tr th {\n        vertical-align: top;\n    }\n\n    .dataframe thead th {\n        text-align: right;\n    }\n</style>\n<table border=\"1\" class=\"dataframe\">\n  <thead>\n    <tr style=\"text-align: right;\">\n      <th></th>\n      <th>State</th>\n      <th>Dem</th>\n      <th>GOP</th>\n      <th>State_Abbreviation</th>\n    </tr>\n  </thead>\n  <tbody>\n    <tr>\n      <th>0</th>\n      <td>Alabama</td>\n      <td>38</td>\n      <td>57</td>\n      <td>AL</td>\n    </tr>\n    <tr>\n      <th>1</th>\n      <td>Alaska</td>\n      <td>45</td>\n      <td>49</td>\n      <td>AK</td>\n    </tr>\n    <tr>\n      <th>2</th>\n      <td>Arizona</td>\n      <td>48</td>\n      <td>43</td>\n      <td>AZ</td>\n    </tr>\n    <tr>\n      <th>3</th>\n      <td>Arkansas</td>\n      <td>45</td>\n      <td>47</td>\n      <td>AR</td>\n    </tr>\n    <tr>\n      <th>4</th>\n      <td>California</td>\n      <td>60</td>\n      <td>30</td>\n      <td>CA</td>\n    </tr>\n    <tr>\n      <th>5</th>\n      <td>Colorado</td>\n      <td>51</td>\n      <td>39</td>\n      <td>CO</td>\n    </tr>\n    <tr>\n      <th>6</th>\n      <td>Connecticut</td>\n      <td>51</td>\n      <td>33</td>\n      <td>CT</td>\n    </tr>\n    <tr>\n      <th>7</th>\n      <td>D.C.</td>\n      <td>93</td>\n      <td>4</td>\n      <td>NaN</td>\n    </tr>\n    <tr>\n      <th>8</th>\n      <td>Delaware</td>\n      <td>56</td>\n      <td>36</td>\n      <td>DE</td>\n    </tr>\n    <tr>\n      <th>9</th>\n      <td>Florida</td>\n      <td>48</td>\n      <td>44</td>\n      <td>FL</td>\n    </tr>\n    <tr>\n      <th>10</th>\n      <td>Georgia</td>\n      <td>46</td>\n      <td>46</td>\n      <td>GA</td>\n    </tr>\n    <tr>\n      <th>11</th>\n      <td>Hawaii</td>\n      <td>65</td>\n      <td>28</td>\n      <td>HI</td>\n    </tr>\n    <tr>\n      <th>12</th>\n      <td>Idaho</td>\n      <td>29</td>\n      <td>58</td>\n      <td>ID</td>\n    </tr>\n    <tr>\n      <th>13</th>\n      <td>Illinois</td>\n      <td>53</td>\n      <td>40</td>\n      <td>IL</td>\n    </tr>\n    <tr>\n      <th>14</th>\n      <td>Indiana</td>\n      <td>38</td>\n      <td>52</td>\n      <td>IN</td>\n    </tr>\n    <tr>\n      <th>15</th>\n      <td>Iowa</td>\n      <td>45</td>\n      <td>46</td>\n      <td>IA</td>\n    </tr>\n    <tr>\n      <th>16</th>\n      <td>Kansas</td>\n      <td>41</td>\n      <td>50</td>\n      <td>KS</td>\n    </tr>\n    <tr>\n      <th>17</th>\n      <td>Kentucky</td>\n      <td>37</td>\n      <td>55</td>\n      <td>KY</td>\n    </tr>\n    <tr>\n      <th>18</th>\n      <td>Louisiana</td>\n      <td>38</td>\n      <td>58</td>\n      <td>LA</td>\n    </tr>\n    <tr>\n      <th>19</th>\n      <td>Maine</td>\n      <td>51</td>\n      <td>39</td>\n      <td>ME</td>\n    </tr>\n    <tr>\n      <th>20</th>\n      <td>Maryland</td>\n      <td>60</td>\n      <td>32</td>\n      <td>MD</td>\n    </tr>\n    <tr>\n      <th>21</th>\n      <td>Massachusetts</td>\n      <td>63</td>\n      <td>29</td>\n      <td>MA</td>\n    </tr>\n    <tr>\n      <th>22</th>\n      <td>Michigan</td>\n      <td>49</td>\n      <td>41</td>\n      <td>MI</td>\n    </tr>\n    <tr>\n      <th>23</th>\n      <td>Minnesota</td>\n      <td>49</td>\n      <td>42</td>\n      <td>MN</td>\n    </tr>\n    <tr>\n      <th>24</th>\n      <td>Mississippi</td>\n      <td>41</td>\n      <td>56</td>\n      <td>MS</td>\n    </tr>\n    <tr>\n      <th>25</th>\n      <td>Missouri</td>\n      <td>43</td>\n      <td>50</td>\n      <td>MO</td>\n    </tr>\n    <tr>\n      <th>26</th>\n      <td>Montana</td>\n      <td>41</td>\n      <td>50</td>\n      <td>MT</td>\n    </tr>\n    <tr>\n      <th>27</th>\n      <td>Nebraska</td>\n      <td>33</td>\n      <td>61</td>\n      <td>NE</td>\n    </tr>\n    <tr>\n      <th>28</th>\n      <td>Nevada</td>\n      <td>46</td>\n      <td>40</td>\n      <td>NV</td>\n    </tr>\n    <tr>\n      <th>29</th>\n      <td>New Hampshire</td>\n      <td>50</td>\n      <td>43</td>\n      <td>NH</td>\n    </tr>\n    <tr>\n      <th>30</th>\n      <td>New Jersey</td>\n      <td>53</td>\n      <td>35</td>\n      <td>NJ</td>\n    </tr>\n    <tr>\n      <th>31</th>\n      <td>New Mexico</td>\n      <td>53</td>\n      <td>40</td>\n      <td>NM</td>\n    </tr>\n    <tr>\n      <th>32</th>\n      <td>New York</td>\n      <td>58</td>\n      <td>31</td>\n      <td>NY</td>\n    </tr>\n    <tr>\n      <th>33</th>\n      <td>North Carolina</td>\n      <td>47</td>\n      <td>45</td>\n      <td>NC</td>\n    </tr>\n    <tr>\n      <th>34</th>\n      <td>North Dakota</td>\n      <td>38</td>\n      <td>56</td>\n      <td>ND</td>\n    </tr>\n    <tr>\n      <th>35</th>\n      <td>Ohio</td>\n      <td>46</td>\n      <td>45</td>\n      <td>OH</td>\n    </tr>\n    <tr>\n      <th>36</th>\n      <td>Oklahoma</td>\n      <td>34</td>\n      <td>58</td>\n      <td>OK</td>\n    </tr>\n    <tr>\n      <th>37</th>\n      <td>Oregon</td>\n      <td>53</td>\n      <td>39</td>\n      <td>OR</td>\n    </tr>\n    <tr>\n      <th>38</th>\n      <td>Pennsylvania</td>\n      <td>49</td>\n      <td>43</td>\n      <td>PA</td>\n    </tr>\n    <tr>\n      <th>39</th>\n      <td>Rhode Island</td>\n      <td>55</td>\n      <td>40</td>\n      <td>RI</td>\n    </tr>\n    <tr>\n      <th>40</th>\n      <td>South Carolina</td>\n      <td>43</td>\n      <td>50</td>\n      <td>SC</td>\n    </tr>\n    <tr>\n      <th>41</th>\n      <td>South Dakota</td>\n      <td>32</td>\n      <td>62</td>\n      <td>SD</td>\n    </tr>\n    <tr>\n      <th>42</th>\n      <td>Tennessee</td>\n      <td>39</td>\n      <td>53</td>\n      <td>TN</td>\n    </tr>\n    <tr>\n      <th>43</th>\n      <td>Texas</td>\n      <td>45</td>\n      <td>47</td>\n      <td>TX</td>\n    </tr>\n    <tr>\n      <th>44</th>\n      <td>Utah</td>\n      <td>36</td>\n      <td>48</td>\n      <td>UT</td>\n    </tr>\n    <tr>\n      <th>45</th>\n      <td>Vermont</td>\n      <td>56</td>\n      <td>32</td>\n      <td>VT</td>\n    </tr>\n    <tr>\n      <th>46</th>\n      <td>Virginia</td>\n      <td>50</td>\n      <td>39</td>\n      <td>VA</td>\n    </tr>\n    <tr>\n      <th>47</th>\n      <td>Washington</td>\n      <td>57</td>\n      <td>34</td>\n      <td>WA</td>\n    </tr>\n    <tr>\n      <th>48</th>\n      <td>West Virginia</td>\n      <td>38</td>\n      <td>56</td>\n      <td>WV</td>\n    </tr>\n    <tr>\n      <th>49</th>\n      <td>Wisconsin</td>\n      <td>48</td>\n      <td>42</td>\n      <td>WI</td>\n    </tr>\n    <tr>\n      <th>50</th>\n      <td>Wyoming</td>\n      <td>23</td>\n      <td>70</td>\n      <td>WY</td>\n    </tr>\n  </tbody>\n</table>\n</div>"
     },
     "metadata": {},
     "execution_count": 8
    }
   ],
   "source": [
    "# adding State_Abbreviations to pres_polls_df\n",
    "pp_avg = pd.merge(state_avg, state_abbrev, on = 'State', how = 'left')\n",
    "pp_avg"
   ]
  },
  {
   "cell_type": "code",
   "execution_count": 9,
   "metadata": {},
   "outputs": [],
   "source": [
    "# finding party preference where Dem is shown as positive percentage and GOP is shown as negative percentage\n",
    "pp_avg['party_pref'] = np.where((pp_avg['Dem'] >= pp_avg['GOP']), \n",
    "                                       'Dem', 'GOP')\n",
    "pp_avg['party_lean'] = np.where((pp_avg['Dem'] >= pp_avg['GOP']), \n",
    "                                       pp_avg['Dem']/100, ~ pp_avg['GOP']/100)"
   ]
  },
  {
   "cell_type": "code",
   "execution_count": 10,
   "metadata": {},
   "outputs": [
    {
     "output_type": "execute_result",
     "data": {
      "text/plain": [
       "             State State_Abbreviation party_pref  party_lean\n",
       "0          Alabama                 AL        GOP       -0.58\n",
       "1           Alaska                 AK        GOP       -0.50\n",
       "2          Arizona                 AZ        Dem        0.48\n",
       "3         Arkansas                 AR        GOP       -0.48\n",
       "4       California                 CA        Dem        0.60\n",
       "5         Colorado                 CO        Dem        0.51\n",
       "6      Connecticut                 CT        Dem        0.51\n",
       "7             D.C.                NaN        Dem        0.93\n",
       "8         Delaware                 DE        Dem        0.56\n",
       "9          Florida                 FL        Dem        0.48\n",
       "10         Georgia                 GA        Dem        0.46\n",
       "11          Hawaii                 HI        Dem        0.65\n",
       "12           Idaho                 ID        GOP       -0.59\n",
       "13        Illinois                 IL        Dem        0.53\n",
       "14         Indiana                 IN        GOP       -0.53\n",
       "15            Iowa                 IA        GOP       -0.47\n",
       "16          Kansas                 KS        GOP       -0.51\n",
       "17        Kentucky                 KY        GOP       -0.56\n",
       "18       Louisiana                 LA        GOP       -0.59\n",
       "19           Maine                 ME        Dem        0.51\n",
       "20        Maryland                 MD        Dem        0.60\n",
       "21   Massachusetts                 MA        Dem        0.63\n",
       "22        Michigan                 MI        Dem        0.49\n",
       "23       Minnesota                 MN        Dem        0.49\n",
       "24     Mississippi                 MS        GOP       -0.57\n",
       "25        Missouri                 MO        GOP       -0.51\n",
       "26         Montana                 MT        GOP       -0.51\n",
       "27        Nebraska                 NE        GOP       -0.62\n",
       "28          Nevada                 NV        Dem        0.46\n",
       "29   New Hampshire                 NH        Dem        0.50\n",
       "30      New Jersey                 NJ        Dem        0.53\n",
       "31      New Mexico                 NM        Dem        0.53\n",
       "32        New York                 NY        Dem        0.58\n",
       "33  North Carolina                 NC        Dem        0.47\n",
       "34    North Dakota                 ND        GOP       -0.57\n",
       "35            Ohio                 OH        Dem        0.46\n",
       "36        Oklahoma                 OK        GOP       -0.59\n",
       "37          Oregon                 OR        Dem        0.53\n",
       "38    Pennsylvania                 PA        Dem        0.49\n",
       "39    Rhode Island                 RI        Dem        0.55\n",
       "40  South Carolina                 SC        GOP       -0.51\n",
       "41    South Dakota                 SD        GOP       -0.63\n",
       "42       Tennessee                 TN        GOP       -0.54\n",
       "43           Texas                 TX        GOP       -0.48\n",
       "44            Utah                 UT        GOP       -0.49\n",
       "45         Vermont                 VT        Dem        0.56\n",
       "46        Virginia                 VA        Dem        0.50\n",
       "47      Washington                 WA        Dem        0.57\n",
       "48   West Virginia                 WV        GOP       -0.57\n",
       "49       Wisconsin                 WI        Dem        0.48\n",
       "50         Wyoming                 WY        GOP       -0.71"
      ],
      "text/html": "<div>\n<style scoped>\n    .dataframe tbody tr th:only-of-type {\n        vertical-align: middle;\n    }\n\n    .dataframe tbody tr th {\n        vertical-align: top;\n    }\n\n    .dataframe thead th {\n        text-align: right;\n    }\n</style>\n<table border=\"1\" class=\"dataframe\">\n  <thead>\n    <tr style=\"text-align: right;\">\n      <th></th>\n      <th>State</th>\n      <th>State_Abbreviation</th>\n      <th>party_pref</th>\n      <th>party_lean</th>\n    </tr>\n  </thead>\n  <tbody>\n    <tr>\n      <th>0</th>\n      <td>Alabama</td>\n      <td>AL</td>\n      <td>GOP</td>\n      <td>-0.58</td>\n    </tr>\n    <tr>\n      <th>1</th>\n      <td>Alaska</td>\n      <td>AK</td>\n      <td>GOP</td>\n      <td>-0.50</td>\n    </tr>\n    <tr>\n      <th>2</th>\n      <td>Arizona</td>\n      <td>AZ</td>\n      <td>Dem</td>\n      <td>0.48</td>\n    </tr>\n    <tr>\n      <th>3</th>\n      <td>Arkansas</td>\n      <td>AR</td>\n      <td>GOP</td>\n      <td>-0.48</td>\n    </tr>\n    <tr>\n      <th>4</th>\n      <td>California</td>\n      <td>CA</td>\n      <td>Dem</td>\n      <td>0.60</td>\n    </tr>\n    <tr>\n      <th>5</th>\n      <td>Colorado</td>\n      <td>CO</td>\n      <td>Dem</td>\n      <td>0.51</td>\n    </tr>\n    <tr>\n      <th>6</th>\n      <td>Connecticut</td>\n      <td>CT</td>\n      <td>Dem</td>\n      <td>0.51</td>\n    </tr>\n    <tr>\n      <th>7</th>\n      <td>D.C.</td>\n      <td>NaN</td>\n      <td>Dem</td>\n      <td>0.93</td>\n    </tr>\n    <tr>\n      <th>8</th>\n      <td>Delaware</td>\n      <td>DE</td>\n      <td>Dem</td>\n      <td>0.56</td>\n    </tr>\n    <tr>\n      <th>9</th>\n      <td>Florida</td>\n      <td>FL</td>\n      <td>Dem</td>\n      <td>0.48</td>\n    </tr>\n    <tr>\n      <th>10</th>\n      <td>Georgia</td>\n      <td>GA</td>\n      <td>Dem</td>\n      <td>0.46</td>\n    </tr>\n    <tr>\n      <th>11</th>\n      <td>Hawaii</td>\n      <td>HI</td>\n      <td>Dem</td>\n      <td>0.65</td>\n    </tr>\n    <tr>\n      <th>12</th>\n      <td>Idaho</td>\n      <td>ID</td>\n      <td>GOP</td>\n      <td>-0.59</td>\n    </tr>\n    <tr>\n      <th>13</th>\n      <td>Illinois</td>\n      <td>IL</td>\n      <td>Dem</td>\n      <td>0.53</td>\n    </tr>\n    <tr>\n      <th>14</th>\n      <td>Indiana</td>\n      <td>IN</td>\n      <td>GOP</td>\n      <td>-0.53</td>\n    </tr>\n    <tr>\n      <th>15</th>\n      <td>Iowa</td>\n      <td>IA</td>\n      <td>GOP</td>\n      <td>-0.47</td>\n    </tr>\n    <tr>\n      <th>16</th>\n      <td>Kansas</td>\n      <td>KS</td>\n      <td>GOP</td>\n      <td>-0.51</td>\n    </tr>\n    <tr>\n      <th>17</th>\n      <td>Kentucky</td>\n      <td>KY</td>\n      <td>GOP</td>\n      <td>-0.56</td>\n    </tr>\n    <tr>\n      <th>18</th>\n      <td>Louisiana</td>\n      <td>LA</td>\n      <td>GOP</td>\n      <td>-0.59</td>\n    </tr>\n    <tr>\n      <th>19</th>\n      <td>Maine</td>\n      <td>ME</td>\n      <td>Dem</td>\n      <td>0.51</td>\n    </tr>\n    <tr>\n      <th>20</th>\n      <td>Maryland</td>\n      <td>MD</td>\n      <td>Dem</td>\n      <td>0.60</td>\n    </tr>\n    <tr>\n      <th>21</th>\n      <td>Massachusetts</td>\n      <td>MA</td>\n      <td>Dem</td>\n      <td>0.63</td>\n    </tr>\n    <tr>\n      <th>22</th>\n      <td>Michigan</td>\n      <td>MI</td>\n      <td>Dem</td>\n      <td>0.49</td>\n    </tr>\n    <tr>\n      <th>23</th>\n      <td>Minnesota</td>\n      <td>MN</td>\n      <td>Dem</td>\n      <td>0.49</td>\n    </tr>\n    <tr>\n      <th>24</th>\n      <td>Mississippi</td>\n      <td>MS</td>\n      <td>GOP</td>\n      <td>-0.57</td>\n    </tr>\n    <tr>\n      <th>25</th>\n      <td>Missouri</td>\n      <td>MO</td>\n      <td>GOP</td>\n      <td>-0.51</td>\n    </tr>\n    <tr>\n      <th>26</th>\n      <td>Montana</td>\n      <td>MT</td>\n      <td>GOP</td>\n      <td>-0.51</td>\n    </tr>\n    <tr>\n      <th>27</th>\n      <td>Nebraska</td>\n      <td>NE</td>\n      <td>GOP</td>\n      <td>-0.62</td>\n    </tr>\n    <tr>\n      <th>28</th>\n      <td>Nevada</td>\n      <td>NV</td>\n      <td>Dem</td>\n      <td>0.46</td>\n    </tr>\n    <tr>\n      <th>29</th>\n      <td>New Hampshire</td>\n      <td>NH</td>\n      <td>Dem</td>\n      <td>0.50</td>\n    </tr>\n    <tr>\n      <th>30</th>\n      <td>New Jersey</td>\n      <td>NJ</td>\n      <td>Dem</td>\n      <td>0.53</td>\n    </tr>\n    <tr>\n      <th>31</th>\n      <td>New Mexico</td>\n      <td>NM</td>\n      <td>Dem</td>\n      <td>0.53</td>\n    </tr>\n    <tr>\n      <th>32</th>\n      <td>New York</td>\n      <td>NY</td>\n      <td>Dem</td>\n      <td>0.58</td>\n    </tr>\n    <tr>\n      <th>33</th>\n      <td>North Carolina</td>\n      <td>NC</td>\n      <td>Dem</td>\n      <td>0.47</td>\n    </tr>\n    <tr>\n      <th>34</th>\n      <td>North Dakota</td>\n      <td>ND</td>\n      <td>GOP</td>\n      <td>-0.57</td>\n    </tr>\n    <tr>\n      <th>35</th>\n      <td>Ohio</td>\n      <td>OH</td>\n      <td>Dem</td>\n      <td>0.46</td>\n    </tr>\n    <tr>\n      <th>36</th>\n      <td>Oklahoma</td>\n      <td>OK</td>\n      <td>GOP</td>\n      <td>-0.59</td>\n    </tr>\n    <tr>\n      <th>37</th>\n      <td>Oregon</td>\n      <td>OR</td>\n      <td>Dem</td>\n      <td>0.53</td>\n    </tr>\n    <tr>\n      <th>38</th>\n      <td>Pennsylvania</td>\n      <td>PA</td>\n      <td>Dem</td>\n      <td>0.49</td>\n    </tr>\n    <tr>\n      <th>39</th>\n      <td>Rhode Island</td>\n      <td>RI</td>\n      <td>Dem</td>\n      <td>0.55</td>\n    </tr>\n    <tr>\n      <th>40</th>\n      <td>South Carolina</td>\n      <td>SC</td>\n      <td>GOP</td>\n      <td>-0.51</td>\n    </tr>\n    <tr>\n      <th>41</th>\n      <td>South Dakota</td>\n      <td>SD</td>\n      <td>GOP</td>\n      <td>-0.63</td>\n    </tr>\n    <tr>\n      <th>42</th>\n      <td>Tennessee</td>\n      <td>TN</td>\n      <td>GOP</td>\n      <td>-0.54</td>\n    </tr>\n    <tr>\n      <th>43</th>\n      <td>Texas</td>\n      <td>TX</td>\n      <td>GOP</td>\n      <td>-0.48</td>\n    </tr>\n    <tr>\n      <th>44</th>\n      <td>Utah</td>\n      <td>UT</td>\n      <td>GOP</td>\n      <td>-0.49</td>\n    </tr>\n    <tr>\n      <th>45</th>\n      <td>Vermont</td>\n      <td>VT</td>\n      <td>Dem</td>\n      <td>0.56</td>\n    </tr>\n    <tr>\n      <th>46</th>\n      <td>Virginia</td>\n      <td>VA</td>\n      <td>Dem</td>\n      <td>0.50</td>\n    </tr>\n    <tr>\n      <th>47</th>\n      <td>Washington</td>\n      <td>WA</td>\n      <td>Dem</td>\n      <td>0.57</td>\n    </tr>\n    <tr>\n      <th>48</th>\n      <td>West Virginia</td>\n      <td>WV</td>\n      <td>GOP</td>\n      <td>-0.57</td>\n    </tr>\n    <tr>\n      <th>49</th>\n      <td>Wisconsin</td>\n      <td>WI</td>\n      <td>Dem</td>\n      <td>0.48</td>\n    </tr>\n    <tr>\n      <th>50</th>\n      <td>Wyoming</td>\n      <td>WY</td>\n      <td>GOP</td>\n      <td>-0.71</td>\n    </tr>\n  </tbody>\n</table>\n</div>"
     },
     "metadata": {},
     "execution_count": 10
    }
   ],
   "source": [
    "ppavg = pp_avg.copy()\n",
    "\n",
    "ppavg.drop(ppavg.columns[1:3], axis='columns', inplace=True)\n",
    "ppavg"
   ]
  },
  {
   "cell_type": "markdown",
   "metadata": {},
   "source": [
    "### create US map"
   ]
  },
  {
   "cell_type": "code",
   "execution_count": 11,
   "metadata": {},
   "outputs": [
    {
     "output_type": "display_data",
     "data": {
      "application/vnd.plotly.v1+json": {
       "config": {
        "plotlyServerURL": "https://plot.ly"
       },
       "data": [
        {
         "coloraxis": "coloraxis",
         "customdata": [
          [
           "GOP",
           -0.58
          ],
          [
           "GOP",
           -0.5
          ],
          [
           "Dem",
           0.48
          ],
          [
           "GOP",
           -0.48
          ],
          [
           "Dem",
           0.6
          ],
          [
           "Dem",
           0.51
          ],
          [
           "Dem",
           0.51
          ],
          [
           "Dem",
           0.93
          ],
          [
           "Dem",
           0.56
          ],
          [
           "Dem",
           0.48
          ],
          [
           "Dem",
           0.46
          ],
          [
           "Dem",
           0.65
          ],
          [
           "GOP",
           -0.59
          ],
          [
           "Dem",
           0.53
          ],
          [
           "GOP",
           -0.53
          ],
          [
           "GOP",
           -0.47
          ],
          [
           "GOP",
           -0.51
          ],
          [
           "GOP",
           -0.56
          ],
          [
           "GOP",
           -0.59
          ],
          [
           "Dem",
           0.51
          ],
          [
           "Dem",
           0.6
          ],
          [
           "Dem",
           0.63
          ],
          [
           "Dem",
           0.49
          ],
          [
           "Dem",
           0.49
          ],
          [
           "GOP",
           -0.57
          ],
          [
           "GOP",
           -0.51
          ],
          [
           "GOP",
           -0.51
          ],
          [
           "GOP",
           -0.62
          ],
          [
           "Dem",
           0.46
          ],
          [
           "Dem",
           0.5
          ],
          [
           "Dem",
           0.53
          ],
          [
           "Dem",
           0.53
          ],
          [
           "Dem",
           0.58
          ],
          [
           "Dem",
           0.47
          ],
          [
           "GOP",
           -0.57
          ],
          [
           "Dem",
           0.46
          ],
          [
           "GOP",
           -0.59
          ],
          [
           "Dem",
           0.53
          ],
          [
           "Dem",
           0.49
          ],
          [
           "Dem",
           0.55
          ],
          [
           "GOP",
           -0.51
          ],
          [
           "GOP",
           -0.63
          ],
          [
           "GOP",
           -0.54
          ],
          [
           "GOP",
           -0.48
          ],
          [
           "GOP",
           -0.49
          ],
          [
           "Dem",
           0.56
          ],
          [
           "Dem",
           0.5
          ],
          [
           "Dem",
           0.57
          ],
          [
           "GOP",
           -0.57
          ],
          [
           "Dem",
           0.48
          ],
          [
           "GOP",
           -0.71
          ]
         ],
         "geo": "geo",
         "hovertemplate": "<b>%{hovertext}</b><br><br>State_Abbreviation=%{location}<br>Party Preference=%{customdata[0]}<extra></extra>",
         "hovertext": [
          "Alabama",
          "Alaska",
          "Arizona",
          "Arkansas",
          "California",
          "Colorado",
          "Connecticut",
          "D.C.",
          "Delaware",
          "Florida",
          "Georgia",
          "Hawaii",
          "Idaho",
          "Illinois",
          "Indiana",
          "Iowa",
          "Kansas",
          "Kentucky",
          "Louisiana",
          "Maine",
          "Maryland",
          "Massachusetts",
          "Michigan",
          "Minnesota",
          "Mississippi",
          "Missouri",
          "Montana",
          "Nebraska",
          "Nevada",
          "New Hampshire",
          "New Jersey",
          "New Mexico",
          "New York",
          "North Carolina",
          "North Dakota",
          "Ohio",
          "Oklahoma",
          "Oregon",
          "Pennsylvania",
          "Rhode Island",
          "South Carolina",
          "South Dakota",
          "Tennessee",
          "Texas",
          "Utah",
          "Vermont",
          "Virginia",
          "Washington",
          "West Virginia",
          "Wisconsin",
          "Wyoming"
         ],
         "locationmode": "USA-states",
         "locations": [
          "AL",
          "AK",
          "AZ",
          "AR",
          "CA",
          "CO",
          "CT",
          null,
          "DE",
          "FL",
          "GA",
          "HI",
          "ID",
          "IL",
          "IN",
          "IA",
          "KS",
          "KY",
          "LA",
          "ME",
          "MD",
          "MA",
          "MI",
          "MN",
          "MS",
          "MO",
          "MT",
          "NE",
          "NV",
          "NH",
          "NJ",
          "NM",
          "NY",
          "NC",
          "ND",
          "OH",
          "OK",
          "OR",
          "PA",
          "RI",
          "SC",
          "SD",
          "TN",
          "TX",
          "UT",
          "VT",
          "VA",
          "WA",
          "WV",
          "WI",
          "WY"
         ],
         "name": "",
         "type": "choropleth",
         "z": [
          -0.58,
          -0.5,
          0.48,
          -0.48,
          0.6,
          0.51,
          0.51,
          0.93,
          0.56,
          0.48,
          0.46,
          0.65,
          -0.59,
          0.53,
          -0.53,
          -0.47,
          -0.51,
          -0.56,
          -0.59,
          0.51,
          0.6,
          0.63,
          0.49,
          0.49,
          -0.57,
          -0.51,
          -0.51,
          -0.62,
          0.46,
          0.5,
          0.53,
          0.53,
          0.58,
          0.47,
          -0.57,
          0.46,
          -0.59,
          0.53,
          0.49,
          0.55,
          -0.51,
          -0.63,
          -0.54,
          -0.48,
          -0.49,
          0.56,
          0.5,
          0.57,
          -0.57,
          0.48,
          -0.71
         ]
        }
       ],
       "layout": {
        "coloraxis": {
         "cmid": 0,
         "colorbar": {
          "title": {
           "text": "Party Lean Percentage"
          }
         },
         "colorscale": [
          [
           0,
           "rgb(103,0,31)"
          ],
          [
           0.1,
           "rgb(178,24,43)"
          ],
          [
           0.2,
           "rgb(214,96,77)"
          ],
          [
           0.3,
           "rgb(244,165,130)"
          ],
          [
           0.4,
           "rgb(253,219,199)"
          ],
          [
           0.5,
           "rgb(247,247,247)"
          ],
          [
           0.6,
           "rgb(209,229,240)"
          ],
          [
           0.7,
           "rgb(146,197,222)"
          ],
          [
           0.8,
           "rgb(67,147,195)"
          ],
          [
           0.9,
           "rgb(33,102,172)"
          ],
          [
           1,
           "rgb(5,48,97)"
          ]
         ]
        },
        "geo": {
         "center": {},
         "domain": {
          "x": [
           0,
           1
          ],
          "y": [
           0,
           1
          ]
         },
         "scope": "usa"
        },
        "legend": {
         "tracegroupgap": 0
        },
        "margin": {
         "t": 60
        },
        "template": {
         "data": {
          "bar": [
           {
            "error_x": {
             "color": "#2a3f5f"
            },
            "error_y": {
             "color": "#2a3f5f"
            },
            "marker": {
             "line": {
              "color": "#E5ECF6",
              "width": 0.5
             }
            },
            "type": "bar"
           }
          ],
          "barpolar": [
           {
            "marker": {
             "line": {
              "color": "#E5ECF6",
              "width": 0.5
             }
            },
            "type": "barpolar"
           }
          ],
          "carpet": [
           {
            "aaxis": {
             "endlinecolor": "#2a3f5f",
             "gridcolor": "white",
             "linecolor": "white",
             "minorgridcolor": "white",
             "startlinecolor": "#2a3f5f"
            },
            "baxis": {
             "endlinecolor": "#2a3f5f",
             "gridcolor": "white",
             "linecolor": "white",
             "minorgridcolor": "white",
             "startlinecolor": "#2a3f5f"
            },
            "type": "carpet"
           }
          ],
          "choropleth": [
           {
            "colorbar": {
             "outlinewidth": 0,
             "ticks": ""
            },
            "type": "choropleth"
           }
          ],
          "contour": [
           {
            "colorbar": {
             "outlinewidth": 0,
             "ticks": ""
            },
            "colorscale": [
             [
              0,
              "#0d0887"
             ],
             [
              0.1111111111111111,
              "#46039f"
             ],
             [
              0.2222222222222222,
              "#7201a8"
             ],
             [
              0.3333333333333333,
              "#9c179e"
             ],
             [
              0.4444444444444444,
              "#bd3786"
             ],
             [
              0.5555555555555556,
              "#d8576b"
             ],
             [
              0.6666666666666666,
              "#ed7953"
             ],
             [
              0.7777777777777778,
              "#fb9f3a"
             ],
             [
              0.8888888888888888,
              "#fdca26"
             ],
             [
              1,
              "#f0f921"
             ]
            ],
            "type": "contour"
           }
          ],
          "contourcarpet": [
           {
            "colorbar": {
             "outlinewidth": 0,
             "ticks": ""
            },
            "type": "contourcarpet"
           }
          ],
          "heatmap": [
           {
            "colorbar": {
             "outlinewidth": 0,
             "ticks": ""
            },
            "colorscale": [
             [
              0,
              "#0d0887"
             ],
             [
              0.1111111111111111,
              "#46039f"
             ],
             [
              0.2222222222222222,
              "#7201a8"
             ],
             [
              0.3333333333333333,
              "#9c179e"
             ],
             [
              0.4444444444444444,
              "#bd3786"
             ],
             [
              0.5555555555555556,
              "#d8576b"
             ],
             [
              0.6666666666666666,
              "#ed7953"
             ],
             [
              0.7777777777777778,
              "#fb9f3a"
             ],
             [
              0.8888888888888888,
              "#fdca26"
             ],
             [
              1,
              "#f0f921"
             ]
            ],
            "type": "heatmap"
           }
          ],
          "heatmapgl": [
           {
            "colorbar": {
             "outlinewidth": 0,
             "ticks": ""
            },
            "colorscale": [
             [
              0,
              "#0d0887"
             ],
             [
              0.1111111111111111,
              "#46039f"
             ],
             [
              0.2222222222222222,
              "#7201a8"
             ],
             [
              0.3333333333333333,
              "#9c179e"
             ],
             [
              0.4444444444444444,
              "#bd3786"
             ],
             [
              0.5555555555555556,
              "#d8576b"
             ],
             [
              0.6666666666666666,
              "#ed7953"
             ],
             [
              0.7777777777777778,
              "#fb9f3a"
             ],
             [
              0.8888888888888888,
              "#fdca26"
             ],
             [
              1,
              "#f0f921"
             ]
            ],
            "type": "heatmapgl"
           }
          ],
          "histogram": [
           {
            "marker": {
             "colorbar": {
              "outlinewidth": 0,
              "ticks": ""
             }
            },
            "type": "histogram"
           }
          ],
          "histogram2d": [
           {
            "colorbar": {
             "outlinewidth": 0,
             "ticks": ""
            },
            "colorscale": [
             [
              0,
              "#0d0887"
             ],
             [
              0.1111111111111111,
              "#46039f"
             ],
             [
              0.2222222222222222,
              "#7201a8"
             ],
             [
              0.3333333333333333,
              "#9c179e"
             ],
             [
              0.4444444444444444,
              "#bd3786"
             ],
             [
              0.5555555555555556,
              "#d8576b"
             ],
             [
              0.6666666666666666,
              "#ed7953"
             ],
             [
              0.7777777777777778,
              "#fb9f3a"
             ],
             [
              0.8888888888888888,
              "#fdca26"
             ],
             [
              1,
              "#f0f921"
             ]
            ],
            "type": "histogram2d"
           }
          ],
          "histogram2dcontour": [
           {
            "colorbar": {
             "outlinewidth": 0,
             "ticks": ""
            },
            "colorscale": [
             [
              0,
              "#0d0887"
             ],
             [
              0.1111111111111111,
              "#46039f"
             ],
             [
              0.2222222222222222,
              "#7201a8"
             ],
             [
              0.3333333333333333,
              "#9c179e"
             ],
             [
              0.4444444444444444,
              "#bd3786"
             ],
             [
              0.5555555555555556,
              "#d8576b"
             ],
             [
              0.6666666666666666,
              "#ed7953"
             ],
             [
              0.7777777777777778,
              "#fb9f3a"
             ],
             [
              0.8888888888888888,
              "#fdca26"
             ],
             [
              1,
              "#f0f921"
             ]
            ],
            "type": "histogram2dcontour"
           }
          ],
          "mesh3d": [
           {
            "colorbar": {
             "outlinewidth": 0,
             "ticks": ""
            },
            "type": "mesh3d"
           }
          ],
          "parcoords": [
           {
            "line": {
             "colorbar": {
              "outlinewidth": 0,
              "ticks": ""
             }
            },
            "type": "parcoords"
           }
          ],
          "pie": [
           {
            "automargin": true,
            "type": "pie"
           }
          ],
          "scatter": [
           {
            "marker": {
             "colorbar": {
              "outlinewidth": 0,
              "ticks": ""
             }
            },
            "type": "scatter"
           }
          ],
          "scatter3d": [
           {
            "line": {
             "colorbar": {
              "outlinewidth": 0,
              "ticks": ""
             }
            },
            "marker": {
             "colorbar": {
              "outlinewidth": 0,
              "ticks": ""
             }
            },
            "type": "scatter3d"
           }
          ],
          "scattercarpet": [
           {
            "marker": {
             "colorbar": {
              "outlinewidth": 0,
              "ticks": ""
             }
            },
            "type": "scattercarpet"
           }
          ],
          "scattergeo": [
           {
            "marker": {
             "colorbar": {
              "outlinewidth": 0,
              "ticks": ""
             }
            },
            "type": "scattergeo"
           }
          ],
          "scattergl": [
           {
            "marker": {
             "colorbar": {
              "outlinewidth": 0,
              "ticks": ""
             }
            },
            "type": "scattergl"
           }
          ],
          "scattermapbox": [
           {
            "marker": {
             "colorbar": {
              "outlinewidth": 0,
              "ticks": ""
             }
            },
            "type": "scattermapbox"
           }
          ],
          "scatterpolar": [
           {
            "marker": {
             "colorbar": {
              "outlinewidth": 0,
              "ticks": ""
             }
            },
            "type": "scatterpolar"
           }
          ],
          "scatterpolargl": [
           {
            "marker": {
             "colorbar": {
              "outlinewidth": 0,
              "ticks": ""
             }
            },
            "type": "scatterpolargl"
           }
          ],
          "scatterternary": [
           {
            "marker": {
             "colorbar": {
              "outlinewidth": 0,
              "ticks": ""
             }
            },
            "type": "scatterternary"
           }
          ],
          "surface": [
           {
            "colorbar": {
             "outlinewidth": 0,
             "ticks": ""
            },
            "colorscale": [
             [
              0,
              "#0d0887"
             ],
             [
              0.1111111111111111,
              "#46039f"
             ],
             [
              0.2222222222222222,
              "#7201a8"
             ],
             [
              0.3333333333333333,
              "#9c179e"
             ],
             [
              0.4444444444444444,
              "#bd3786"
             ],
             [
              0.5555555555555556,
              "#d8576b"
             ],
             [
              0.6666666666666666,
              "#ed7953"
             ],
             [
              0.7777777777777778,
              "#fb9f3a"
             ],
             [
              0.8888888888888888,
              "#fdca26"
             ],
             [
              1,
              "#f0f921"
             ]
            ],
            "type": "surface"
           }
          ],
          "table": [
           {
            "cells": {
             "fill": {
              "color": "#EBF0F8"
             },
             "line": {
              "color": "white"
             }
            },
            "header": {
             "fill": {
              "color": "#C8D4E3"
             },
             "line": {
              "color": "white"
             }
            },
            "type": "table"
           }
          ]
         },
         "layout": {
          "annotationdefaults": {
           "arrowcolor": "#2a3f5f",
           "arrowhead": 0,
           "arrowwidth": 1
          },
          "coloraxis": {
           "colorbar": {
            "outlinewidth": 0,
            "ticks": ""
           }
          },
          "colorscale": {
           "diverging": [
            [
             0,
             "#8e0152"
            ],
            [
             0.1,
             "#c51b7d"
            ],
            [
             0.2,
             "#de77ae"
            ],
            [
             0.3,
             "#f1b6da"
            ],
            [
             0.4,
             "#fde0ef"
            ],
            [
             0.5,
             "#f7f7f7"
            ],
            [
             0.6,
             "#e6f5d0"
            ],
            [
             0.7,
             "#b8e186"
            ],
            [
             0.8,
             "#7fbc41"
            ],
            [
             0.9,
             "#4d9221"
            ],
            [
             1,
             "#276419"
            ]
           ],
           "sequential": [
            [
             0,
             "#0d0887"
            ],
            [
             0.1111111111111111,
             "#46039f"
            ],
            [
             0.2222222222222222,
             "#7201a8"
            ],
            [
             0.3333333333333333,
             "#9c179e"
            ],
            [
             0.4444444444444444,
             "#bd3786"
            ],
            [
             0.5555555555555556,
             "#d8576b"
            ],
            [
             0.6666666666666666,
             "#ed7953"
            ],
            [
             0.7777777777777778,
             "#fb9f3a"
            ],
            [
             0.8888888888888888,
             "#fdca26"
            ],
            [
             1,
             "#f0f921"
            ]
           ],
           "sequentialminus": [
            [
             0,
             "#0d0887"
            ],
            [
             0.1111111111111111,
             "#46039f"
            ],
            [
             0.2222222222222222,
             "#7201a8"
            ],
            [
             0.3333333333333333,
             "#9c179e"
            ],
            [
             0.4444444444444444,
             "#bd3786"
            ],
            [
             0.5555555555555556,
             "#d8576b"
            ],
            [
             0.6666666666666666,
             "#ed7953"
            ],
            [
             0.7777777777777778,
             "#fb9f3a"
            ],
            [
             0.8888888888888888,
             "#fdca26"
            ],
            [
             1,
             "#f0f921"
            ]
           ]
          },
          "colorway": [
           "#636efa",
           "#EF553B",
           "#00cc96",
           "#ab63fa",
           "#FFA15A",
           "#19d3f3",
           "#FF6692",
           "#B6E880",
           "#FF97FF",
           "#FECB52"
          ],
          "font": {
           "color": "#2a3f5f"
          },
          "geo": {
           "bgcolor": "white",
           "lakecolor": "white",
           "landcolor": "#E5ECF6",
           "showlakes": true,
           "showland": true,
           "subunitcolor": "white"
          },
          "hoverlabel": {
           "align": "left"
          },
          "hovermode": "closest",
          "mapbox": {
           "style": "light"
          },
          "paper_bgcolor": "white",
          "plot_bgcolor": "#E5ECF6",
          "polar": {
           "angularaxis": {
            "gridcolor": "white",
            "linecolor": "white",
            "ticks": ""
           },
           "bgcolor": "#E5ECF6",
           "radialaxis": {
            "gridcolor": "white",
            "linecolor": "white",
            "ticks": ""
           }
          },
          "scene": {
           "xaxis": {
            "backgroundcolor": "#E5ECF6",
            "gridcolor": "white",
            "gridwidth": 2,
            "linecolor": "white",
            "showbackground": true,
            "ticks": "",
            "zerolinecolor": "white"
           },
           "yaxis": {
            "backgroundcolor": "#E5ECF6",
            "gridcolor": "white",
            "gridwidth": 2,
            "linecolor": "white",
            "showbackground": true,
            "ticks": "",
            "zerolinecolor": "white"
           },
           "zaxis": {
            "backgroundcolor": "#E5ECF6",
            "gridcolor": "white",
            "gridwidth": 2,
            "linecolor": "white",
            "showbackground": true,
            "ticks": "",
            "zerolinecolor": "white"
           }
          },
          "shapedefaults": {
           "line": {
            "color": "#2a3f5f"
           }
          },
          "ternary": {
           "aaxis": {
            "gridcolor": "white",
            "linecolor": "white",
            "ticks": ""
           },
           "baxis": {
            "gridcolor": "white",
            "linecolor": "white",
            "ticks": ""
           },
           "bgcolor": "#E5ECF6",
           "caxis": {
            "gridcolor": "white",
            "linecolor": "white",
            "ticks": ""
           }
          },
          "title": {
           "x": 0.05
          },
          "xaxis": {
           "automargin": true,
           "gridcolor": "white",
           "linecolor": "white",
           "ticks": "",
           "title": {
            "standoff": 15
           },
           "zerolinecolor": "white",
           "zerolinewidth": 2
          },
          "yaxis": {
           "automargin": true,
           "gridcolor": "white",
           "linecolor": "white",
           "ticks": "",
           "title": {
            "standoff": 15
           },
           "zerolinecolor": "white",
           "zerolinewidth": 2
          }
         }
        },
        "title": {
         "text": "2020 President Polls as at 11th October 2020"
        }
       }
      }
     },
     "metadata": {}
    }
   ],
   "source": [
    "fig = px.choropleth(pp_avg,  # Input Pandas DataFrame\n",
    "                    locations='State_Abbreviation',  # DataFrame column with locations\n",
    "                    color='party_lean', # DataFrame column with color value\n",
    "                    color_continuous_scale=px.colors.diverging.RdBu, # from https://plotly.com/python/builtin-colorscales/\n",
    "                    color_continuous_midpoint=0, # party preference midpoint\n",
    "                    hover_name='State', # DataFrame column hover info\n",
    "                    hover_data={'party_pref':True, # add other column, default formatting\n",
    "                               'party_lean':False # remove party_lean from hover data\n",
    "                               },\n",
    "                    locationmode = 'USA-states', # Set to plot as US States\n",
    "                    labels={'party_pref':'Party Preference',\n",
    "                           'party_lean':'Party Lean Percentage'})\n",
    "\n",
    "fig.update_layout(\n",
    "    title_text='2020 President Polls as at 11th October 2020', \n",
    "    geo_scope='usa')  # Plot only the USA instead of globe\n",
    "\n",
    "                    \n",
    "fig.show()"
   ]
  },
  {
   "cell_type": "markdown",
   "metadata": {},
   "source": [
    "## Heatmap of 2016 Presidential Election Results on US map"
   ]
  },
  {
   "cell_type": "code",
   "execution_count": 75,
   "metadata": {},
   "outputs": [
    {
     "output_type": "execute_result",
     "data": {
      "text/plain": [
       "     STATE STATE ABBREVIATION FIRST NAME  LAST NAME LAST NAME,  FIRST PARTY  \\\n",
       "0  Alabama                 AL  Donald J.      Trump  Trump, Donald J.   REP   \n",
       "1  Alabama                 AL    Hillary    Clinton  Clinton, Hillary   DEM   \n",
       "2  Alabama                 AL       Gary    Johnson     Johnson, Gary   IND   \n",
       "3  Alabama                 AL        NaN  Scattered       Scattered,      W   \n",
       "4  Alabama                 AL       Jill      Stein       Stein, Jill   IND   \n",
       "\n",
       "   GENERAL RESULTS  GENERAL % WINNER INDICATOR  \n",
       "0        1318255.0   0.620831                W  \n",
       "1         729547.0   0.343579              NaN  \n",
       "2          44467.0   0.020942              NaN  \n",
       "3          21712.0   0.010225              NaN  \n",
       "4           9391.0   0.004423              NaN  "
      ],
      "text/html": "<div>\n<style scoped>\n    .dataframe tbody tr th:only-of-type {\n        vertical-align: middle;\n    }\n\n    .dataframe tbody tr th {\n        vertical-align: top;\n    }\n\n    .dataframe thead th {\n        text-align: right;\n    }\n</style>\n<table border=\"1\" class=\"dataframe\">\n  <thead>\n    <tr style=\"text-align: right;\">\n      <th></th>\n      <th>STATE</th>\n      <th>STATE ABBREVIATION</th>\n      <th>FIRST NAME</th>\n      <th>LAST NAME</th>\n      <th>LAST NAME,  FIRST</th>\n      <th>PARTY</th>\n      <th>GENERAL RESULTS</th>\n      <th>GENERAL %</th>\n      <th>WINNER INDICATOR</th>\n    </tr>\n  </thead>\n  <tbody>\n    <tr>\n      <th>0</th>\n      <td>Alabama</td>\n      <td>AL</td>\n      <td>Donald J.</td>\n      <td>Trump</td>\n      <td>Trump, Donald J.</td>\n      <td>REP</td>\n      <td>1318255.0</td>\n      <td>0.620831</td>\n      <td>W</td>\n    </tr>\n    <tr>\n      <th>1</th>\n      <td>Alabama</td>\n      <td>AL</td>\n      <td>Hillary</td>\n      <td>Clinton</td>\n      <td>Clinton, Hillary</td>\n      <td>DEM</td>\n      <td>729547.0</td>\n      <td>0.343579</td>\n      <td>NaN</td>\n    </tr>\n    <tr>\n      <th>2</th>\n      <td>Alabama</td>\n      <td>AL</td>\n      <td>Gary</td>\n      <td>Johnson</td>\n      <td>Johnson, Gary</td>\n      <td>IND</td>\n      <td>44467.0</td>\n      <td>0.020942</td>\n      <td>NaN</td>\n    </tr>\n    <tr>\n      <th>3</th>\n      <td>Alabama</td>\n      <td>AL</td>\n      <td>NaN</td>\n      <td>Scattered</td>\n      <td>Scattered,</td>\n      <td>W</td>\n      <td>21712.0</td>\n      <td>0.010225</td>\n      <td>NaN</td>\n    </tr>\n    <tr>\n      <th>4</th>\n      <td>Alabama</td>\n      <td>AL</td>\n      <td>Jill</td>\n      <td>Stein</td>\n      <td>Stein, Jill</td>\n      <td>IND</td>\n      <td>9391.0</td>\n      <td>0.004423</td>\n      <td>NaN</td>\n    </tr>\n  </tbody>\n</table>\n</div>"
     },
     "metadata": {},
     "execution_count": 75
    }
   ],
   "source": [
    "# Use copy of 2016 Presidential Results used above\n",
    "pr = pres_res.copy()\n",
    "pr.head()"
   ]
  },
  {
   "cell_type": "code",
   "execution_count": 76,
   "metadata": {},
   "outputs": [
    {
     "output_type": "execute_result",
     "data": {
      "text/plain": [
       "        STATE STATE ABBREVIATION FIRST NAME LAST NAME LAST NAME,  FIRST PARTY  \\\n",
       "0     Alabama                 AL  Donald J.     Trump  Trump, Donald J.   REP   \n",
       "1      Alaska                 AK  Donald J.     Trump  Trump, Donald J.   REP   \n",
       "2     Arizona                 AZ  Donald J.     Trump  Trump, Donald J.   REP   \n",
       "3    Arkansas                 AR  Donald J.     Trump  Trump, Donald J.   REP   \n",
       "4  California                 CA    Hillary   Clinton  Clinton, Hillary   DEM   \n",
       "\n",
       "   GENERAL RESULTS  GENERAL % WINNER INDICATOR  \n",
       "0        1318255.0   0.620831                W  \n",
       "1         163387.0   0.512815                W  \n",
       "2        1252401.0   0.486716                W  \n",
       "3         684872.0   0.605719                W  \n",
       "4        8753792.0   0.617264                W  "
      ],
      "text/html": "<div>\n<style scoped>\n    .dataframe tbody tr th:only-of-type {\n        vertical-align: middle;\n    }\n\n    .dataframe tbody tr th {\n        vertical-align: top;\n    }\n\n    .dataframe thead th {\n        text-align: right;\n    }\n</style>\n<table border=\"1\" class=\"dataframe\">\n  <thead>\n    <tr style=\"text-align: right;\">\n      <th></th>\n      <th>STATE</th>\n      <th>STATE ABBREVIATION</th>\n      <th>FIRST NAME</th>\n      <th>LAST NAME</th>\n      <th>LAST NAME,  FIRST</th>\n      <th>PARTY</th>\n      <th>GENERAL RESULTS</th>\n      <th>GENERAL %</th>\n      <th>WINNER INDICATOR</th>\n    </tr>\n  </thead>\n  <tbody>\n    <tr>\n      <th>0</th>\n      <td>Alabama</td>\n      <td>AL</td>\n      <td>Donald J.</td>\n      <td>Trump</td>\n      <td>Trump, Donald J.</td>\n      <td>REP</td>\n      <td>1318255.0</td>\n      <td>0.620831</td>\n      <td>W</td>\n    </tr>\n    <tr>\n      <th>1</th>\n      <td>Alaska</td>\n      <td>AK</td>\n      <td>Donald J.</td>\n      <td>Trump</td>\n      <td>Trump, Donald J.</td>\n      <td>REP</td>\n      <td>163387.0</td>\n      <td>0.512815</td>\n      <td>W</td>\n    </tr>\n    <tr>\n      <th>2</th>\n      <td>Arizona</td>\n      <td>AZ</td>\n      <td>Donald J.</td>\n      <td>Trump</td>\n      <td>Trump, Donald J.</td>\n      <td>REP</td>\n      <td>1252401.0</td>\n      <td>0.486716</td>\n      <td>W</td>\n    </tr>\n    <tr>\n      <th>3</th>\n      <td>Arkansas</td>\n      <td>AR</td>\n      <td>Donald J.</td>\n      <td>Trump</td>\n      <td>Trump, Donald J.</td>\n      <td>REP</td>\n      <td>684872.0</td>\n      <td>0.605719</td>\n      <td>W</td>\n    </tr>\n    <tr>\n      <th>4</th>\n      <td>California</td>\n      <td>CA</td>\n      <td>Hillary</td>\n      <td>Clinton</td>\n      <td>Clinton, Hillary</td>\n      <td>DEM</td>\n      <td>8753792.0</td>\n      <td>0.617264</td>\n      <td>W</td>\n    </tr>\n  </tbody>\n</table>\n</div>"
     },
     "metadata": {},
     "execution_count": 76
    }
   ],
   "source": [
    "p_res = pr.loc[pr['WINNER INDICATOR']=='W'].reset_index(drop=True)\n",
    "p_res.head()\n"
   ]
  },
  {
   "cell_type": "code",
   "execution_count": 77,
   "metadata": {},
   "outputs": [
    {
     "output_type": "execute_result",
     "data": {
      "text/plain": [
       "                   STATE STATE ABBREVIATION PARTY  GENERAL % WINNER INDICATOR\n",
       "0                Alabama                 AL   REP   0.620831                W\n",
       "1                 Alaska                 AK   REP   0.512815                W\n",
       "2                Arizona                 AZ   REP   0.486716                W\n",
       "3               Arkansas                 AR   REP   0.605719                W\n",
       "4             California                 CA   DEM   0.617264                W\n",
       "5               Colorado                 CO   DEM   0.481565                W\n",
       "6            Connecticut                 CT   DEM   0.545663                W\n",
       "7               Delaware                 DE   DEM   0.530860                W\n",
       "8   District of Columbia                 DC   DEM   0.908638                W\n",
       "9                Florida                 FL   REP   0.490219                W\n",
       "10               Georgia                 GA   REP   0.507713                W\n",
       "11                Hawaii                 HI   DEM   0.622215                W\n",
       "12                 Idaho                 ID   REP   0.592614                W\n",
       "13              Illinois                 IL   DEM   0.558254                W\n",
       "14               Indiana                 IN   REP   0.569400                W\n",
       "15                  Iowa                 IA   REP   0.511473                W\n",
       "16                Kansas                 KS   REP   0.566546                W\n",
       "17              Kentucky                 KY   REP   0.625196                W\n",
       "18             Louisiana                 LA   REP   0.580887                W\n",
       "19                 Maine                 ME   DEM   0.478302                W\n",
       "20              Maryland                 MD   DEM   0.603257                W\n",
       "21         Massachusetts                 MA   DEM   0.600051                W\n",
       "22              Michigan                 MI   REP   0.474976                W\n",
       "23             Minnesota                 MN   DFL   0.464449                W\n",
       "24           Mississippi                 MS   REP   0.579410                W\n",
       "25              Missouri                 MO   REP   0.567723                W\n",
       "26               Montana                 MT   REP   0.561685                W\n",
       "27              Nebraska                 NE   REP   0.587474                W\n",
       "28                Nevada                 NV   DEM   0.479178                W\n",
       "29         New Hampshire                 NH   DEM   0.468263                W\n",
       "30            New Jersey                 NJ   DEM   0.554531                W\n",
       "31            New Mexico                 NM   DEM   0.482556                W\n",
       "32        North Carolina                 NC   REP   0.498281                W\n",
       "33          North Dakota                 ND   REP   0.629556                W\n",
       "34                  Ohio                 OH   REP   0.516877                W\n",
       "35              Oklahoma                 OK   REP   0.653229                W\n",
       "36                Oregon                 OR   DEM   0.500719                W\n",
       "37          Pennsylvania                 PA   REP   0.481833                W\n",
       "38          Rhode Island                 RI   DEM   0.544066                W\n",
       "39        South Carolina                 SC   REP   0.549393                W\n",
       "40          South Dakota                 SD   REP   0.615308                W\n",
       "41             Tennessee                 TN   REP   0.607220                W\n",
       "42                 Texas                 TX   REP   0.522347                W\n",
       "43                  Utah                 UT   REP   0.455380                W\n",
       "44               Vermont                 VT   DEM   0.566778                W\n",
       "45              Virginia                 VA   DEM   0.497279                W\n",
       "46            Washington                 WA   DEM   0.525387                W\n",
       "47         West Virginia                 WV   REP   0.684988                W\n",
       "48             Wisconsin                 WI   REP   0.472182                W\n",
       "49               Wyoming                 WY   REP   0.681726                W"
      ],
      "text/html": "<div>\n<style scoped>\n    .dataframe tbody tr th:only-of-type {\n        vertical-align: middle;\n    }\n\n    .dataframe tbody tr th {\n        vertical-align: top;\n    }\n\n    .dataframe thead th {\n        text-align: right;\n    }\n</style>\n<table border=\"1\" class=\"dataframe\">\n  <thead>\n    <tr style=\"text-align: right;\">\n      <th></th>\n      <th>STATE</th>\n      <th>STATE ABBREVIATION</th>\n      <th>PARTY</th>\n      <th>GENERAL %</th>\n      <th>WINNER INDICATOR</th>\n    </tr>\n  </thead>\n  <tbody>\n    <tr>\n      <th>0</th>\n      <td>Alabama</td>\n      <td>AL</td>\n      <td>REP</td>\n      <td>0.620831</td>\n      <td>W</td>\n    </tr>\n    <tr>\n      <th>1</th>\n      <td>Alaska</td>\n      <td>AK</td>\n      <td>REP</td>\n      <td>0.512815</td>\n      <td>W</td>\n    </tr>\n    <tr>\n      <th>2</th>\n      <td>Arizona</td>\n      <td>AZ</td>\n      <td>REP</td>\n      <td>0.486716</td>\n      <td>W</td>\n    </tr>\n    <tr>\n      <th>3</th>\n      <td>Arkansas</td>\n      <td>AR</td>\n      <td>REP</td>\n      <td>0.605719</td>\n      <td>W</td>\n    </tr>\n    <tr>\n      <th>4</th>\n      <td>California</td>\n      <td>CA</td>\n      <td>DEM</td>\n      <td>0.617264</td>\n      <td>W</td>\n    </tr>\n    <tr>\n      <th>5</th>\n      <td>Colorado</td>\n      <td>CO</td>\n      <td>DEM</td>\n      <td>0.481565</td>\n      <td>W</td>\n    </tr>\n    <tr>\n      <th>6</th>\n      <td>Connecticut</td>\n      <td>CT</td>\n      <td>DEM</td>\n      <td>0.545663</td>\n      <td>W</td>\n    </tr>\n    <tr>\n      <th>7</th>\n      <td>Delaware</td>\n      <td>DE</td>\n      <td>DEM</td>\n      <td>0.530860</td>\n      <td>W</td>\n    </tr>\n    <tr>\n      <th>8</th>\n      <td>District of Columbia</td>\n      <td>DC</td>\n      <td>DEM</td>\n      <td>0.908638</td>\n      <td>W</td>\n    </tr>\n    <tr>\n      <th>9</th>\n      <td>Florida</td>\n      <td>FL</td>\n      <td>REP</td>\n      <td>0.490219</td>\n      <td>W</td>\n    </tr>\n    <tr>\n      <th>10</th>\n      <td>Georgia</td>\n      <td>GA</td>\n      <td>REP</td>\n      <td>0.507713</td>\n      <td>W</td>\n    </tr>\n    <tr>\n      <th>11</th>\n      <td>Hawaii</td>\n      <td>HI</td>\n      <td>DEM</td>\n      <td>0.622215</td>\n      <td>W</td>\n    </tr>\n    <tr>\n      <th>12</th>\n      <td>Idaho</td>\n      <td>ID</td>\n      <td>REP</td>\n      <td>0.592614</td>\n      <td>W</td>\n    </tr>\n    <tr>\n      <th>13</th>\n      <td>Illinois</td>\n      <td>IL</td>\n      <td>DEM</td>\n      <td>0.558254</td>\n      <td>W</td>\n    </tr>\n    <tr>\n      <th>14</th>\n      <td>Indiana</td>\n      <td>IN</td>\n      <td>REP</td>\n      <td>0.569400</td>\n      <td>W</td>\n    </tr>\n    <tr>\n      <th>15</th>\n      <td>Iowa</td>\n      <td>IA</td>\n      <td>REP</td>\n      <td>0.511473</td>\n      <td>W</td>\n    </tr>\n    <tr>\n      <th>16</th>\n      <td>Kansas</td>\n      <td>KS</td>\n      <td>REP</td>\n      <td>0.566546</td>\n      <td>W</td>\n    </tr>\n    <tr>\n      <th>17</th>\n      <td>Kentucky</td>\n      <td>KY</td>\n      <td>REP</td>\n      <td>0.625196</td>\n      <td>W</td>\n    </tr>\n    <tr>\n      <th>18</th>\n      <td>Louisiana</td>\n      <td>LA</td>\n      <td>REP</td>\n      <td>0.580887</td>\n      <td>W</td>\n    </tr>\n    <tr>\n      <th>19</th>\n      <td>Maine</td>\n      <td>ME</td>\n      <td>DEM</td>\n      <td>0.478302</td>\n      <td>W</td>\n    </tr>\n    <tr>\n      <th>20</th>\n      <td>Maryland</td>\n      <td>MD</td>\n      <td>DEM</td>\n      <td>0.603257</td>\n      <td>W</td>\n    </tr>\n    <tr>\n      <th>21</th>\n      <td>Massachusetts</td>\n      <td>MA</td>\n      <td>DEM</td>\n      <td>0.600051</td>\n      <td>W</td>\n    </tr>\n    <tr>\n      <th>22</th>\n      <td>Michigan</td>\n      <td>MI</td>\n      <td>REP</td>\n      <td>0.474976</td>\n      <td>W</td>\n    </tr>\n    <tr>\n      <th>23</th>\n      <td>Minnesota</td>\n      <td>MN</td>\n      <td>DFL</td>\n      <td>0.464449</td>\n      <td>W</td>\n    </tr>\n    <tr>\n      <th>24</th>\n      <td>Mississippi</td>\n      <td>MS</td>\n      <td>REP</td>\n      <td>0.579410</td>\n      <td>W</td>\n    </tr>\n    <tr>\n      <th>25</th>\n      <td>Missouri</td>\n      <td>MO</td>\n      <td>REP</td>\n      <td>0.567723</td>\n      <td>W</td>\n    </tr>\n    <tr>\n      <th>26</th>\n      <td>Montana</td>\n      <td>MT</td>\n      <td>REP</td>\n      <td>0.561685</td>\n      <td>W</td>\n    </tr>\n    <tr>\n      <th>27</th>\n      <td>Nebraska</td>\n      <td>NE</td>\n      <td>REP</td>\n      <td>0.587474</td>\n      <td>W</td>\n    </tr>\n    <tr>\n      <th>28</th>\n      <td>Nevada</td>\n      <td>NV</td>\n      <td>DEM</td>\n      <td>0.479178</td>\n      <td>W</td>\n    </tr>\n    <tr>\n      <th>29</th>\n      <td>New Hampshire</td>\n      <td>NH</td>\n      <td>DEM</td>\n      <td>0.468263</td>\n      <td>W</td>\n    </tr>\n    <tr>\n      <th>30</th>\n      <td>New Jersey</td>\n      <td>NJ</td>\n      <td>DEM</td>\n      <td>0.554531</td>\n      <td>W</td>\n    </tr>\n    <tr>\n      <th>31</th>\n      <td>New Mexico</td>\n      <td>NM</td>\n      <td>DEM</td>\n      <td>0.482556</td>\n      <td>W</td>\n    </tr>\n    <tr>\n      <th>32</th>\n      <td>North Carolina</td>\n      <td>NC</td>\n      <td>REP</td>\n      <td>0.498281</td>\n      <td>W</td>\n    </tr>\n    <tr>\n      <th>33</th>\n      <td>North Dakota</td>\n      <td>ND</td>\n      <td>REP</td>\n      <td>0.629556</td>\n      <td>W</td>\n    </tr>\n    <tr>\n      <th>34</th>\n      <td>Ohio</td>\n      <td>OH</td>\n      <td>REP</td>\n      <td>0.516877</td>\n      <td>W</td>\n    </tr>\n    <tr>\n      <th>35</th>\n      <td>Oklahoma</td>\n      <td>OK</td>\n      <td>REP</td>\n      <td>0.653229</td>\n      <td>W</td>\n    </tr>\n    <tr>\n      <th>36</th>\n      <td>Oregon</td>\n      <td>OR</td>\n      <td>DEM</td>\n      <td>0.500719</td>\n      <td>W</td>\n    </tr>\n    <tr>\n      <th>37</th>\n      <td>Pennsylvania</td>\n      <td>PA</td>\n      <td>REP</td>\n      <td>0.481833</td>\n      <td>W</td>\n    </tr>\n    <tr>\n      <th>38</th>\n      <td>Rhode Island</td>\n      <td>RI</td>\n      <td>DEM</td>\n      <td>0.544066</td>\n      <td>W</td>\n    </tr>\n    <tr>\n      <th>39</th>\n      <td>South Carolina</td>\n      <td>SC</td>\n      <td>REP</td>\n      <td>0.549393</td>\n      <td>W</td>\n    </tr>\n    <tr>\n      <th>40</th>\n      <td>South Dakota</td>\n      <td>SD</td>\n      <td>REP</td>\n      <td>0.615308</td>\n      <td>W</td>\n    </tr>\n    <tr>\n      <th>41</th>\n      <td>Tennessee</td>\n      <td>TN</td>\n      <td>REP</td>\n      <td>0.607220</td>\n      <td>W</td>\n    </tr>\n    <tr>\n      <th>42</th>\n      <td>Texas</td>\n      <td>TX</td>\n      <td>REP</td>\n      <td>0.522347</td>\n      <td>W</td>\n    </tr>\n    <tr>\n      <th>43</th>\n      <td>Utah</td>\n      <td>UT</td>\n      <td>REP</td>\n      <td>0.455380</td>\n      <td>W</td>\n    </tr>\n    <tr>\n      <th>44</th>\n      <td>Vermont</td>\n      <td>VT</td>\n      <td>DEM</td>\n      <td>0.566778</td>\n      <td>W</td>\n    </tr>\n    <tr>\n      <th>45</th>\n      <td>Virginia</td>\n      <td>VA</td>\n      <td>DEM</td>\n      <td>0.497279</td>\n      <td>W</td>\n    </tr>\n    <tr>\n      <th>46</th>\n      <td>Washington</td>\n      <td>WA</td>\n      <td>DEM</td>\n      <td>0.525387</td>\n      <td>W</td>\n    </tr>\n    <tr>\n      <th>47</th>\n      <td>West Virginia</td>\n      <td>WV</td>\n      <td>REP</td>\n      <td>0.684988</td>\n      <td>W</td>\n    </tr>\n    <tr>\n      <th>48</th>\n      <td>Wisconsin</td>\n      <td>WI</td>\n      <td>REP</td>\n      <td>0.472182</td>\n      <td>W</td>\n    </tr>\n    <tr>\n      <th>49</th>\n      <td>Wyoming</td>\n      <td>WY</td>\n      <td>REP</td>\n      <td>0.681726</td>\n      <td>W</td>\n    </tr>\n  </tbody>\n</table>\n</div>"
     },
     "metadata": {},
     "execution_count": 77
    }
   ],
   "source": [
    "p_res.drop(p_res.columns[2:5], axis='columns', inplace=True) # dropping columns 'FIRST NAME', 'LAST NAME', 'LAST NAME, FIRST'\n",
    "p_res.drop(p_res.columns[3], axis='columns', inplace=True) # dropping column 'GENERAL RESULTS'\n",
    "p_res"
   ]
  },
  {
   "cell_type": "code",
   "execution_count": 78,
   "metadata": {},
   "outputs": [
    {
     "output_type": "execute_result",
     "data": {
      "text/plain": [
       "                   STATE STATE ABBREVIATION PARTY  GENERAL % WINNER INDICATOR  \\\n",
       "0                Alabama                 AL   REP   0.620831                W   \n",
       "1                 Alaska                 AK   REP   0.512815                W   \n",
       "2                Arizona                 AZ   REP   0.486716                W   \n",
       "3               Arkansas                 AR   REP   0.605719                W   \n",
       "4             California                 CA   DEM   0.617264                W   \n",
       "5               Colorado                 CO   DEM   0.481565                W   \n",
       "6            Connecticut                 CT   DEM   0.545663                W   \n",
       "7               Delaware                 DE   DEM   0.530860                W   \n",
       "8   District of Columbia                 DC   DEM   0.908638                W   \n",
       "9                Florida                 FL   REP   0.490219                W   \n",
       "10               Georgia                 GA   REP   0.507713                W   \n",
       "11                Hawaii                 HI   DEM   0.622215                W   \n",
       "12                 Idaho                 ID   REP   0.592614                W   \n",
       "13              Illinois                 IL   DEM   0.558254                W   \n",
       "14               Indiana                 IN   REP   0.569400                W   \n",
       "15                  Iowa                 IA   REP   0.511473                W   \n",
       "16                Kansas                 KS   REP   0.566546                W   \n",
       "17              Kentucky                 KY   REP   0.625196                W   \n",
       "18             Louisiana                 LA   REP   0.580887                W   \n",
       "19                 Maine                 ME   DEM   0.478302                W   \n",
       "20              Maryland                 MD   DEM   0.603257                W   \n",
       "21         Massachusetts                 MA   DEM   0.600051                W   \n",
       "22              Michigan                 MI   REP   0.474976                W   \n",
       "23             Minnesota                 MN   DFL   0.464449                W   \n",
       "24           Mississippi                 MS   REP   0.579410                W   \n",
       "25              Missouri                 MO   REP   0.567723                W   \n",
       "26               Montana                 MT   REP   0.561685                W   \n",
       "27              Nebraska                 NE   REP   0.587474                W   \n",
       "28                Nevada                 NV   DEM   0.479178                W   \n",
       "29         New Hampshire                 NH   DEM   0.468263                W   \n",
       "30            New Jersey                 NJ   DEM   0.554531                W   \n",
       "31            New Mexico                 NM   DEM   0.482556                W   \n",
       "32        North Carolina                 NC   REP   0.498281                W   \n",
       "33          North Dakota                 ND   REP   0.629556                W   \n",
       "34                  Ohio                 OH   REP   0.516877                W   \n",
       "35              Oklahoma                 OK   REP   0.653229                W   \n",
       "36                Oregon                 OR   DEM   0.500719                W   \n",
       "37          Pennsylvania                 PA   REP   0.481833                W   \n",
       "38          Rhode Island                 RI   DEM   0.544066                W   \n",
       "39        South Carolina                 SC   REP   0.549393                W   \n",
       "40          South Dakota                 SD   REP   0.615308                W   \n",
       "41             Tennessee                 TN   REP   0.607220                W   \n",
       "42                 Texas                 TX   REP   0.522347                W   \n",
       "43                  Utah                 UT   REP   0.455380                W   \n",
       "44               Vermont                 VT   DEM   0.566778                W   \n",
       "45              Virginia                 VA   DEM   0.497279                W   \n",
       "46            Washington                 WA   DEM   0.525387                W   \n",
       "47         West Virginia                 WV   REP   0.684988                W   \n",
       "48             Wisconsin                 WI   REP   0.472182                W   \n",
       "49               Wyoming                 WY   REP   0.681726                W   \n",
       "\n",
       "    Party Lean Percentage  \n",
       "0               -0.620831  \n",
       "1               -0.512815  \n",
       "2               -0.486716  \n",
       "3               -0.605719  \n",
       "4                0.617264  \n",
       "5                0.481565  \n",
       "6                0.545663  \n",
       "7                0.530860  \n",
       "8                0.908638  \n",
       "9               -0.490219  \n",
       "10              -0.507713  \n",
       "11               0.622215  \n",
       "12              -0.592614  \n",
       "13               0.558254  \n",
       "14              -0.569400  \n",
       "15              -0.511473  \n",
       "16              -0.566546  \n",
       "17              -0.625196  \n",
       "18              -0.580887  \n",
       "19               0.478302  \n",
       "20               0.603257  \n",
       "21               0.600051  \n",
       "22              -0.474976  \n",
       "23               0.464449  \n",
       "24              -0.579410  \n",
       "25              -0.567723  \n",
       "26              -0.561685  \n",
       "27              -0.587474  \n",
       "28               0.479178  \n",
       "29               0.468263  \n",
       "30               0.554531  \n",
       "31               0.482556  \n",
       "32              -0.498281  \n",
       "33              -0.629556  \n",
       "34              -0.516877  \n",
       "35              -0.653229  \n",
       "36               0.500719  \n",
       "37              -0.481833  \n",
       "38               0.544066  \n",
       "39              -0.549393  \n",
       "40              -0.615308  \n",
       "41              -0.607220  \n",
       "42              -0.522347  \n",
       "43              -0.455380  \n",
       "44               0.566778  \n",
       "45               0.497279  \n",
       "46               0.525387  \n",
       "47              -0.684988  \n",
       "48              -0.472182  \n",
       "49              -0.681726  "
      ],
      "text/html": "<div>\n<style scoped>\n    .dataframe tbody tr th:only-of-type {\n        vertical-align: middle;\n    }\n\n    .dataframe tbody tr th {\n        vertical-align: top;\n    }\n\n    .dataframe thead th {\n        text-align: right;\n    }\n</style>\n<table border=\"1\" class=\"dataframe\">\n  <thead>\n    <tr style=\"text-align: right;\">\n      <th></th>\n      <th>STATE</th>\n      <th>STATE ABBREVIATION</th>\n      <th>PARTY</th>\n      <th>GENERAL %</th>\n      <th>WINNER INDICATOR</th>\n      <th>Party Lean Percentage</th>\n    </tr>\n  </thead>\n  <tbody>\n    <tr>\n      <th>0</th>\n      <td>Alabama</td>\n      <td>AL</td>\n      <td>REP</td>\n      <td>0.620831</td>\n      <td>W</td>\n      <td>-0.620831</td>\n    </tr>\n    <tr>\n      <th>1</th>\n      <td>Alaska</td>\n      <td>AK</td>\n      <td>REP</td>\n      <td>0.512815</td>\n      <td>W</td>\n      <td>-0.512815</td>\n    </tr>\n    <tr>\n      <th>2</th>\n      <td>Arizona</td>\n      <td>AZ</td>\n      <td>REP</td>\n      <td>0.486716</td>\n      <td>W</td>\n      <td>-0.486716</td>\n    </tr>\n    <tr>\n      <th>3</th>\n      <td>Arkansas</td>\n      <td>AR</td>\n      <td>REP</td>\n      <td>0.605719</td>\n      <td>W</td>\n      <td>-0.605719</td>\n    </tr>\n    <tr>\n      <th>4</th>\n      <td>California</td>\n      <td>CA</td>\n      <td>DEM</td>\n      <td>0.617264</td>\n      <td>W</td>\n      <td>0.617264</td>\n    </tr>\n    <tr>\n      <th>5</th>\n      <td>Colorado</td>\n      <td>CO</td>\n      <td>DEM</td>\n      <td>0.481565</td>\n      <td>W</td>\n      <td>0.481565</td>\n    </tr>\n    <tr>\n      <th>6</th>\n      <td>Connecticut</td>\n      <td>CT</td>\n      <td>DEM</td>\n      <td>0.545663</td>\n      <td>W</td>\n      <td>0.545663</td>\n    </tr>\n    <tr>\n      <th>7</th>\n      <td>Delaware</td>\n      <td>DE</td>\n      <td>DEM</td>\n      <td>0.530860</td>\n      <td>W</td>\n      <td>0.530860</td>\n    </tr>\n    <tr>\n      <th>8</th>\n      <td>District of Columbia</td>\n      <td>DC</td>\n      <td>DEM</td>\n      <td>0.908638</td>\n      <td>W</td>\n      <td>0.908638</td>\n    </tr>\n    <tr>\n      <th>9</th>\n      <td>Florida</td>\n      <td>FL</td>\n      <td>REP</td>\n      <td>0.490219</td>\n      <td>W</td>\n      <td>-0.490219</td>\n    </tr>\n    <tr>\n      <th>10</th>\n      <td>Georgia</td>\n      <td>GA</td>\n      <td>REP</td>\n      <td>0.507713</td>\n      <td>W</td>\n      <td>-0.507713</td>\n    </tr>\n    <tr>\n      <th>11</th>\n      <td>Hawaii</td>\n      <td>HI</td>\n      <td>DEM</td>\n      <td>0.622215</td>\n      <td>W</td>\n      <td>0.622215</td>\n    </tr>\n    <tr>\n      <th>12</th>\n      <td>Idaho</td>\n      <td>ID</td>\n      <td>REP</td>\n      <td>0.592614</td>\n      <td>W</td>\n      <td>-0.592614</td>\n    </tr>\n    <tr>\n      <th>13</th>\n      <td>Illinois</td>\n      <td>IL</td>\n      <td>DEM</td>\n      <td>0.558254</td>\n      <td>W</td>\n      <td>0.558254</td>\n    </tr>\n    <tr>\n      <th>14</th>\n      <td>Indiana</td>\n      <td>IN</td>\n      <td>REP</td>\n      <td>0.569400</td>\n      <td>W</td>\n      <td>-0.569400</td>\n    </tr>\n    <tr>\n      <th>15</th>\n      <td>Iowa</td>\n      <td>IA</td>\n      <td>REP</td>\n      <td>0.511473</td>\n      <td>W</td>\n      <td>-0.511473</td>\n    </tr>\n    <tr>\n      <th>16</th>\n      <td>Kansas</td>\n      <td>KS</td>\n      <td>REP</td>\n      <td>0.566546</td>\n      <td>W</td>\n      <td>-0.566546</td>\n    </tr>\n    <tr>\n      <th>17</th>\n      <td>Kentucky</td>\n      <td>KY</td>\n      <td>REP</td>\n      <td>0.625196</td>\n      <td>W</td>\n      <td>-0.625196</td>\n    </tr>\n    <tr>\n      <th>18</th>\n      <td>Louisiana</td>\n      <td>LA</td>\n      <td>REP</td>\n      <td>0.580887</td>\n      <td>W</td>\n      <td>-0.580887</td>\n    </tr>\n    <tr>\n      <th>19</th>\n      <td>Maine</td>\n      <td>ME</td>\n      <td>DEM</td>\n      <td>0.478302</td>\n      <td>W</td>\n      <td>0.478302</td>\n    </tr>\n    <tr>\n      <th>20</th>\n      <td>Maryland</td>\n      <td>MD</td>\n      <td>DEM</td>\n      <td>0.603257</td>\n      <td>W</td>\n      <td>0.603257</td>\n    </tr>\n    <tr>\n      <th>21</th>\n      <td>Massachusetts</td>\n      <td>MA</td>\n      <td>DEM</td>\n      <td>0.600051</td>\n      <td>W</td>\n      <td>0.600051</td>\n    </tr>\n    <tr>\n      <th>22</th>\n      <td>Michigan</td>\n      <td>MI</td>\n      <td>REP</td>\n      <td>0.474976</td>\n      <td>W</td>\n      <td>-0.474976</td>\n    </tr>\n    <tr>\n      <th>23</th>\n      <td>Minnesota</td>\n      <td>MN</td>\n      <td>DFL</td>\n      <td>0.464449</td>\n      <td>W</td>\n      <td>0.464449</td>\n    </tr>\n    <tr>\n      <th>24</th>\n      <td>Mississippi</td>\n      <td>MS</td>\n      <td>REP</td>\n      <td>0.579410</td>\n      <td>W</td>\n      <td>-0.579410</td>\n    </tr>\n    <tr>\n      <th>25</th>\n      <td>Missouri</td>\n      <td>MO</td>\n      <td>REP</td>\n      <td>0.567723</td>\n      <td>W</td>\n      <td>-0.567723</td>\n    </tr>\n    <tr>\n      <th>26</th>\n      <td>Montana</td>\n      <td>MT</td>\n      <td>REP</td>\n      <td>0.561685</td>\n      <td>W</td>\n      <td>-0.561685</td>\n    </tr>\n    <tr>\n      <th>27</th>\n      <td>Nebraska</td>\n      <td>NE</td>\n      <td>REP</td>\n      <td>0.587474</td>\n      <td>W</td>\n      <td>-0.587474</td>\n    </tr>\n    <tr>\n      <th>28</th>\n      <td>Nevada</td>\n      <td>NV</td>\n      <td>DEM</td>\n      <td>0.479178</td>\n      <td>W</td>\n      <td>0.479178</td>\n    </tr>\n    <tr>\n      <th>29</th>\n      <td>New Hampshire</td>\n      <td>NH</td>\n      <td>DEM</td>\n      <td>0.468263</td>\n      <td>W</td>\n      <td>0.468263</td>\n    </tr>\n    <tr>\n      <th>30</th>\n      <td>New Jersey</td>\n      <td>NJ</td>\n      <td>DEM</td>\n      <td>0.554531</td>\n      <td>W</td>\n      <td>0.554531</td>\n    </tr>\n    <tr>\n      <th>31</th>\n      <td>New Mexico</td>\n      <td>NM</td>\n      <td>DEM</td>\n      <td>0.482556</td>\n      <td>W</td>\n      <td>0.482556</td>\n    </tr>\n    <tr>\n      <th>32</th>\n      <td>North Carolina</td>\n      <td>NC</td>\n      <td>REP</td>\n      <td>0.498281</td>\n      <td>W</td>\n      <td>-0.498281</td>\n    </tr>\n    <tr>\n      <th>33</th>\n      <td>North Dakota</td>\n      <td>ND</td>\n      <td>REP</td>\n      <td>0.629556</td>\n      <td>W</td>\n      <td>-0.629556</td>\n    </tr>\n    <tr>\n      <th>34</th>\n      <td>Ohio</td>\n      <td>OH</td>\n      <td>REP</td>\n      <td>0.516877</td>\n      <td>W</td>\n      <td>-0.516877</td>\n    </tr>\n    <tr>\n      <th>35</th>\n      <td>Oklahoma</td>\n      <td>OK</td>\n      <td>REP</td>\n      <td>0.653229</td>\n      <td>W</td>\n      <td>-0.653229</td>\n    </tr>\n    <tr>\n      <th>36</th>\n      <td>Oregon</td>\n      <td>OR</td>\n      <td>DEM</td>\n      <td>0.500719</td>\n      <td>W</td>\n      <td>0.500719</td>\n    </tr>\n    <tr>\n      <th>37</th>\n      <td>Pennsylvania</td>\n      <td>PA</td>\n      <td>REP</td>\n      <td>0.481833</td>\n      <td>W</td>\n      <td>-0.481833</td>\n    </tr>\n    <tr>\n      <th>38</th>\n      <td>Rhode Island</td>\n      <td>RI</td>\n      <td>DEM</td>\n      <td>0.544066</td>\n      <td>W</td>\n      <td>0.544066</td>\n    </tr>\n    <tr>\n      <th>39</th>\n      <td>South Carolina</td>\n      <td>SC</td>\n      <td>REP</td>\n      <td>0.549393</td>\n      <td>W</td>\n      <td>-0.549393</td>\n    </tr>\n    <tr>\n      <th>40</th>\n      <td>South Dakota</td>\n      <td>SD</td>\n      <td>REP</td>\n      <td>0.615308</td>\n      <td>W</td>\n      <td>-0.615308</td>\n    </tr>\n    <tr>\n      <th>41</th>\n      <td>Tennessee</td>\n      <td>TN</td>\n      <td>REP</td>\n      <td>0.607220</td>\n      <td>W</td>\n      <td>-0.607220</td>\n    </tr>\n    <tr>\n      <th>42</th>\n      <td>Texas</td>\n      <td>TX</td>\n      <td>REP</td>\n      <td>0.522347</td>\n      <td>W</td>\n      <td>-0.522347</td>\n    </tr>\n    <tr>\n      <th>43</th>\n      <td>Utah</td>\n      <td>UT</td>\n      <td>REP</td>\n      <td>0.455380</td>\n      <td>W</td>\n      <td>-0.455380</td>\n    </tr>\n    <tr>\n      <th>44</th>\n      <td>Vermont</td>\n      <td>VT</td>\n      <td>DEM</td>\n      <td>0.566778</td>\n      <td>W</td>\n      <td>0.566778</td>\n    </tr>\n    <tr>\n      <th>45</th>\n      <td>Virginia</td>\n      <td>VA</td>\n      <td>DEM</td>\n      <td>0.497279</td>\n      <td>W</td>\n      <td>0.497279</td>\n    </tr>\n    <tr>\n      <th>46</th>\n      <td>Washington</td>\n      <td>WA</td>\n      <td>DEM</td>\n      <td>0.525387</td>\n      <td>W</td>\n      <td>0.525387</td>\n    </tr>\n    <tr>\n      <th>47</th>\n      <td>West Virginia</td>\n      <td>WV</td>\n      <td>REP</td>\n      <td>0.684988</td>\n      <td>W</td>\n      <td>-0.684988</td>\n    </tr>\n    <tr>\n      <th>48</th>\n      <td>Wisconsin</td>\n      <td>WI</td>\n      <td>REP</td>\n      <td>0.472182</td>\n      <td>W</td>\n      <td>-0.472182</td>\n    </tr>\n    <tr>\n      <th>49</th>\n      <td>Wyoming</td>\n      <td>WY</td>\n      <td>REP</td>\n      <td>0.681726</td>\n      <td>W</td>\n      <td>-0.681726</td>\n    </tr>\n  </tbody>\n</table>\n</div>"
     },
     "metadata": {},
     "execution_count": 78
    }
   ],
   "source": [
    "p_res['Party Lean Percentage'] = np.where((p_res['PARTY'] == 'REP'), \n",
    "                                       p_res['GENERAL %']*-1, p_res['GENERAL %'])\n",
    "p_res"
   ]
  },
  {
   "cell_type": "code",
   "execution_count": 79,
   "metadata": {},
   "outputs": [
    {
     "output_type": "error",
     "ename": "ValueError",
     "evalue": "either both or neither of x and y should be given",
     "traceback": [
      "\u001b[1;31m---------------------------------------------------------------------------\u001b[0m",
      "\u001b[1;31mValueError\u001b[0m                                Traceback (most recent call last)",
      "\u001b[1;32m<ipython-input-79-62204f36f2cf>\u001b[0m in \u001b[0;36m<module>\u001b[1;34m\u001b[0m\n\u001b[1;32m----> 1\u001b[1;33m p_res['PARTY'] = np.where((p_res['PARTY'] == 'REP'), \n\u001b[0m\u001b[0;32m      2\u001b[0m                                        'GOP')\n",
      "\u001b[1;32m<__array_function__ internals>\u001b[0m in \u001b[0;36mwhere\u001b[1;34m(*args, **kwargs)\u001b[0m\n",
      "\u001b[1;31mValueError\u001b[0m: either both or neither of x and y should be given"
     ]
    }
   ],
   "source": [
    "# need to figure out how to change REP to GOP\n",
    "# p_res['PARTY'] = np.where((p_res['PARTY'] == 'REP'), 'GOP')"
   ]
  },
  {
   "cell_type": "code",
   "execution_count": 80,
   "metadata": {},
   "outputs": [
    {
     "output_type": "display_data",
     "data": {
      "application/vnd.plotly.v1+json": {
       "config": {
        "plotlyServerURL": "https://plot.ly"
       },
       "data": [
        {
         "coloraxis": "coloraxis",
         "customdata": [
          [
           "REP",
           "W",
           0.6208309236440906,
           -0.6208309236440906
          ],
          [
           "REP",
           "W",
           0.5128151207753728,
           -0.5128151207753728
          ],
          [
           "REP",
           "W",
           0.4867161647232105,
           -0.4867161647232105
          ],
          [
           "REP",
           "W",
           0.6057190565643916,
           -0.6057190565643916
          ],
          [
           "DEM",
           "W",
           0.6172638863699762,
           0.6172638863699762
          ],
          [
           "DEM",
           "W",
           0.48156512712719407,
           0.48156512712719407
          ],
          [
           "DEM",
           "W",
           0.5456630109670987,
           0.5456630109670987
          ],
          [
           "DEM",
           "W",
           0.5308597745902562,
           0.5308597745902562
          ],
          [
           "DEM",
           "W",
           0.9086382152999987,
           0.9086382152999987
          ],
          [
           "REP",
           "W",
           0.49021941416590736,
           -0.49021941416590736
          ],
          [
           "REP",
           "W",
           0.50771326054771,
           -0.50771326054771
          ],
          [
           "DEM",
           "W",
           0.6222149173421738,
           0.6222149173421738
          ],
          [
           "REP",
           "W",
           0.5926143236919689,
           -0.5926143236919689
          ],
          [
           "DEM",
           "W",
           0.558253666987933,
           0.558253666987933
          ],
          [
           "REP",
           "W",
           0.5694003344841128,
           -0.5694003344841128
          ],
          [
           "REP",
           "W",
           0.5114732722404601,
           -0.5114732722404601
          ],
          [
           "REP",
           "W",
           0.5665458180583958,
           -0.5665458180583958
          ],
          [
           "REP",
           "W",
           0.6251963855190009,
           -0.6251963855190009
          ],
          [
           "REP",
           "W",
           0.580886846535688,
           -0.580886846535688
          ],
          [
           "DEM",
           "W",
           0.47830202680208095,
           0.47830202680208095
          ],
          [
           "DEM",
           "W",
           0.6032574423519277,
           0.6032574423519277
          ],
          [
           "DEM",
           "W",
           0.6000506459158761,
           0.6000506459158761
          ],
          [
           "REP",
           "W",
           0.47497564219996147,
           -0.47497564219996147
          ],
          [
           "DFL",
           "W",
           0.4644491857377701,
           0.4644491857377701
          ],
          [
           "REP",
           "W",
           0.5794103808883564,
           -0.5794103808883564
          ],
          [
           "REP",
           "W",
           0.5677234783816165,
           -0.5677234783816165
          ],
          [
           "REP",
           "W",
           0.5616849744642932,
           -0.5616849744642932
          ],
          [
           "REP",
           "W",
           0.5874735112712576,
           -0.5874735112712576
          ],
          [
           "DEM",
           "W",
           0.4791782367811904,
           0.4791782367811904
          ],
          [
           "DEM",
           "W",
           0.46826262669690555,
           0.46826262669690555
          ],
          [
           "DEM",
           "W",
           0.554530844496942,
           0.554530844496942
          ],
          [
           "DEM",
           "W",
           0.48255647178634103,
           0.48255647178634103
          ],
          [
           "REP",
           "W",
           0.49828094696180414,
           -0.49828094696180414
          ],
          [
           "REP",
           "W",
           0.629556278313393,
           -0.629556278313393
          ],
          [
           "REP",
           "W",
           0.5168765067578619,
           -0.5168765067578619
          ],
          [
           "REP",
           "W",
           0.6532286481962736,
           -0.6532286481962736
          ],
          [
           "DEM",
           "W",
           0.5007185200286208,
           0.5007185200286208
          ],
          [
           "REP",
           "W",
           0.48183336312285924,
           -0.48183336312285924
          ],
          [
           "DEM",
           "W",
           0.5440660657037472,
           0.5440660657037472
          ],
          [
           "REP",
           "W",
           0.5493933268569543,
           -0.5493933268569543
          ],
          [
           "REP",
           "W",
           0.615307503789588,
           -0.615307503789588
          ],
          [
           "REP",
           "W",
           0.6072203369421462,
           -0.6072203369421462
          ],
          [
           "REP",
           "W",
           0.5223468557933538,
           -0.5223468557933538
          ],
          [
           "REP",
           "W",
           0.4553803593682331,
           -0.4553803593682331
          ],
          [
           "DEM",
           "W",
           0.5667778599472493,
           0.5667778599472493
          ],
          [
           "DEM",
           "W",
           0.4972789199301014,
           0.4972789199301014
          ],
          [
           "DEM",
           "W",
           0.5253868006182659,
           0.5253868006182659
          ],
          [
           "REP",
           "W",
           0.6849877453553427,
           -0.6849877453553427
          ],
          [
           "REP",
           "W",
           0.4721818456731012,
           -0.4721818456731012
          ],
          [
           "REP",
           "W",
           0.6817263307654124,
           -0.6817263307654124
          ]
         ],
         "geo": "geo",
         "hovertemplate": "<b>%{hovertext}</b><br><br>STATE ABBREVIATION=%{location}<br>PARTY=%{customdata[0]}<extra></extra>",
         "hovertext": [
          "Alabama",
          "Alaska",
          "Arizona",
          "Arkansas",
          "California",
          "Colorado",
          "Connecticut",
          "Delaware",
          "District of Columbia",
          "Florida",
          "Georgia",
          "Hawaii",
          "Idaho",
          "Illinois",
          "Indiana",
          "Iowa",
          "Kansas",
          "Kentucky",
          "Louisiana",
          "Maine",
          "Maryland",
          "Massachusetts",
          "Michigan",
          "Minnesota",
          "Mississippi",
          "Missouri",
          "Montana",
          "Nebraska",
          "Nevada",
          "New Hampshire",
          "New Jersey",
          "New Mexico",
          "North Carolina",
          "North Dakota",
          "Ohio",
          "Oklahoma",
          "Oregon",
          "Pennsylvania",
          "Rhode Island",
          "South Carolina",
          "South Dakota",
          "Tennessee",
          "Texas",
          "Utah",
          "Vermont",
          "Virginia",
          "Washington",
          "West Virginia",
          "Wisconsin",
          "Wyoming"
         ],
         "locationmode": "USA-states",
         "locations": [
          "AL",
          "AK",
          "AZ",
          "AR",
          "CA",
          "CO",
          "CT",
          "DE",
          "DC",
          "FL",
          "GA",
          "HI",
          "ID",
          "IL",
          "IN",
          "IA",
          "KS",
          "KY",
          "LA",
          "ME",
          "MD",
          "MA",
          "MI",
          "MN",
          "MS",
          "MO",
          "MT",
          "NE",
          "NV",
          "NH",
          "NJ",
          "NM",
          "NC",
          "ND",
          "OH",
          "OK",
          "OR",
          "PA",
          "RI",
          "SC",
          "SD",
          "TN",
          "TX",
          "UT",
          "VT",
          "VA",
          "WA",
          "WV",
          "WI",
          "WY"
         ],
         "name": "",
         "type": "choropleth",
         "z": [
          -0.6208309236440906,
          -0.5128151207753728,
          -0.4867161647232105,
          -0.6057190565643916,
          0.6172638863699762,
          0.48156512712719407,
          0.5456630109670987,
          0.5308597745902562,
          0.9086382152999987,
          -0.49021941416590736,
          -0.50771326054771,
          0.6222149173421738,
          -0.5926143236919689,
          0.558253666987933,
          -0.5694003344841128,
          -0.5114732722404601,
          -0.5665458180583958,
          -0.6251963855190009,
          -0.580886846535688,
          0.47830202680208095,
          0.6032574423519277,
          0.6000506459158761,
          -0.47497564219996147,
          0.4644491857377701,
          -0.5794103808883564,
          -0.5677234783816165,
          -0.5616849744642932,
          -0.5874735112712576,
          0.4791782367811904,
          0.46826262669690555,
          0.554530844496942,
          0.48255647178634103,
          -0.49828094696180414,
          -0.629556278313393,
          -0.5168765067578619,
          -0.6532286481962736,
          0.5007185200286208,
          -0.48183336312285924,
          0.5440660657037472,
          -0.5493933268569543,
          -0.615307503789588,
          -0.6072203369421462,
          -0.5223468557933538,
          -0.4553803593682331,
          0.5667778599472493,
          0.4972789199301014,
          0.5253868006182659,
          -0.6849877453553427,
          -0.4721818456731012,
          -0.6817263307654124
         ]
        }
       ],
       "layout": {
        "coloraxis": {
         "cmid": 0,
         "colorbar": {
          "title": {
           "text": "Party Lean Percentage"
          }
         },
         "colorscale": [
          [
           0,
           "rgb(103,0,31)"
          ],
          [
           0.1,
           "rgb(178,24,43)"
          ],
          [
           0.2,
           "rgb(214,96,77)"
          ],
          [
           0.3,
           "rgb(244,165,130)"
          ],
          [
           0.4,
           "rgb(253,219,199)"
          ],
          [
           0.5,
           "rgb(247,247,247)"
          ],
          [
           0.6,
           "rgb(209,229,240)"
          ],
          [
           0.7,
           "rgb(146,197,222)"
          ],
          [
           0.8,
           "rgb(67,147,195)"
          ],
          [
           0.9,
           "rgb(33,102,172)"
          ],
          [
           1,
           "rgb(5,48,97)"
          ]
         ]
        },
        "geo": {
         "center": {},
         "domain": {
          "x": [
           0,
           1
          ],
          "y": [
           0,
           1
          ]
         },
         "scope": "usa"
        },
        "legend": {
         "tracegroupgap": 0
        },
        "margin": {
         "t": 60
        },
        "template": {
         "data": {
          "bar": [
           {
            "error_x": {
             "color": "#2a3f5f"
            },
            "error_y": {
             "color": "#2a3f5f"
            },
            "marker": {
             "line": {
              "color": "#E5ECF6",
              "width": 0.5
             }
            },
            "type": "bar"
           }
          ],
          "barpolar": [
           {
            "marker": {
             "line": {
              "color": "#E5ECF6",
              "width": 0.5
             }
            },
            "type": "barpolar"
           }
          ],
          "carpet": [
           {
            "aaxis": {
             "endlinecolor": "#2a3f5f",
             "gridcolor": "white",
             "linecolor": "white",
             "minorgridcolor": "white",
             "startlinecolor": "#2a3f5f"
            },
            "baxis": {
             "endlinecolor": "#2a3f5f",
             "gridcolor": "white",
             "linecolor": "white",
             "minorgridcolor": "white",
             "startlinecolor": "#2a3f5f"
            },
            "type": "carpet"
           }
          ],
          "choropleth": [
           {
            "colorbar": {
             "outlinewidth": 0,
             "ticks": ""
            },
            "type": "choropleth"
           }
          ],
          "contour": [
           {
            "colorbar": {
             "outlinewidth": 0,
             "ticks": ""
            },
            "colorscale": [
             [
              0,
              "#0d0887"
             ],
             [
              0.1111111111111111,
              "#46039f"
             ],
             [
              0.2222222222222222,
              "#7201a8"
             ],
             [
              0.3333333333333333,
              "#9c179e"
             ],
             [
              0.4444444444444444,
              "#bd3786"
             ],
             [
              0.5555555555555556,
              "#d8576b"
             ],
             [
              0.6666666666666666,
              "#ed7953"
             ],
             [
              0.7777777777777778,
              "#fb9f3a"
             ],
             [
              0.8888888888888888,
              "#fdca26"
             ],
             [
              1,
              "#f0f921"
             ]
            ],
            "type": "contour"
           }
          ],
          "contourcarpet": [
           {
            "colorbar": {
             "outlinewidth": 0,
             "ticks": ""
            },
            "type": "contourcarpet"
           }
          ],
          "heatmap": [
           {
            "colorbar": {
             "outlinewidth": 0,
             "ticks": ""
            },
            "colorscale": [
             [
              0,
              "#0d0887"
             ],
             [
              0.1111111111111111,
              "#46039f"
             ],
             [
              0.2222222222222222,
              "#7201a8"
             ],
             [
              0.3333333333333333,
              "#9c179e"
             ],
             [
              0.4444444444444444,
              "#bd3786"
             ],
             [
              0.5555555555555556,
              "#d8576b"
             ],
             [
              0.6666666666666666,
              "#ed7953"
             ],
             [
              0.7777777777777778,
              "#fb9f3a"
             ],
             [
              0.8888888888888888,
              "#fdca26"
             ],
             [
              1,
              "#f0f921"
             ]
            ],
            "type": "heatmap"
           }
          ],
          "heatmapgl": [
           {
            "colorbar": {
             "outlinewidth": 0,
             "ticks": ""
            },
            "colorscale": [
             [
              0,
              "#0d0887"
             ],
             [
              0.1111111111111111,
              "#46039f"
             ],
             [
              0.2222222222222222,
              "#7201a8"
             ],
             [
              0.3333333333333333,
              "#9c179e"
             ],
             [
              0.4444444444444444,
              "#bd3786"
             ],
             [
              0.5555555555555556,
              "#d8576b"
             ],
             [
              0.6666666666666666,
              "#ed7953"
             ],
             [
              0.7777777777777778,
              "#fb9f3a"
             ],
             [
              0.8888888888888888,
              "#fdca26"
             ],
             [
              1,
              "#f0f921"
             ]
            ],
            "type": "heatmapgl"
           }
          ],
          "histogram": [
           {
            "marker": {
             "colorbar": {
              "outlinewidth": 0,
              "ticks": ""
             }
            },
            "type": "histogram"
           }
          ],
          "histogram2d": [
           {
            "colorbar": {
             "outlinewidth": 0,
             "ticks": ""
            },
            "colorscale": [
             [
              0,
              "#0d0887"
             ],
             [
              0.1111111111111111,
              "#46039f"
             ],
             [
              0.2222222222222222,
              "#7201a8"
             ],
             [
              0.3333333333333333,
              "#9c179e"
             ],
             [
              0.4444444444444444,
              "#bd3786"
             ],
             [
              0.5555555555555556,
              "#d8576b"
             ],
             [
              0.6666666666666666,
              "#ed7953"
             ],
             [
              0.7777777777777778,
              "#fb9f3a"
             ],
             [
              0.8888888888888888,
              "#fdca26"
             ],
             [
              1,
              "#f0f921"
             ]
            ],
            "type": "histogram2d"
           }
          ],
          "histogram2dcontour": [
           {
            "colorbar": {
             "outlinewidth": 0,
             "ticks": ""
            },
            "colorscale": [
             [
              0,
              "#0d0887"
             ],
             [
              0.1111111111111111,
              "#46039f"
             ],
             [
              0.2222222222222222,
              "#7201a8"
             ],
             [
              0.3333333333333333,
              "#9c179e"
             ],
             [
              0.4444444444444444,
              "#bd3786"
             ],
             [
              0.5555555555555556,
              "#d8576b"
             ],
             [
              0.6666666666666666,
              "#ed7953"
             ],
             [
              0.7777777777777778,
              "#fb9f3a"
             ],
             [
              0.8888888888888888,
              "#fdca26"
             ],
             [
              1,
              "#f0f921"
             ]
            ],
            "type": "histogram2dcontour"
           }
          ],
          "mesh3d": [
           {
            "colorbar": {
             "outlinewidth": 0,
             "ticks": ""
            },
            "type": "mesh3d"
           }
          ],
          "parcoords": [
           {
            "line": {
             "colorbar": {
              "outlinewidth": 0,
              "ticks": ""
             }
            },
            "type": "parcoords"
           }
          ],
          "pie": [
           {
            "automargin": true,
            "type": "pie"
           }
          ],
          "scatter": [
           {
            "marker": {
             "colorbar": {
              "outlinewidth": 0,
              "ticks": ""
             }
            },
            "type": "scatter"
           }
          ],
          "scatter3d": [
           {
            "line": {
             "colorbar": {
              "outlinewidth": 0,
              "ticks": ""
             }
            },
            "marker": {
             "colorbar": {
              "outlinewidth": 0,
              "ticks": ""
             }
            },
            "type": "scatter3d"
           }
          ],
          "scattercarpet": [
           {
            "marker": {
             "colorbar": {
              "outlinewidth": 0,
              "ticks": ""
             }
            },
            "type": "scattercarpet"
           }
          ],
          "scattergeo": [
           {
            "marker": {
             "colorbar": {
              "outlinewidth": 0,
              "ticks": ""
             }
            },
            "type": "scattergeo"
           }
          ],
          "scattergl": [
           {
            "marker": {
             "colorbar": {
              "outlinewidth": 0,
              "ticks": ""
             }
            },
            "type": "scattergl"
           }
          ],
          "scattermapbox": [
           {
            "marker": {
             "colorbar": {
              "outlinewidth": 0,
              "ticks": ""
             }
            },
            "type": "scattermapbox"
           }
          ],
          "scatterpolar": [
           {
            "marker": {
             "colorbar": {
              "outlinewidth": 0,
              "ticks": ""
             }
            },
            "type": "scatterpolar"
           }
          ],
          "scatterpolargl": [
           {
            "marker": {
             "colorbar": {
              "outlinewidth": 0,
              "ticks": ""
             }
            },
            "type": "scatterpolargl"
           }
          ],
          "scatterternary": [
           {
            "marker": {
             "colorbar": {
              "outlinewidth": 0,
              "ticks": ""
             }
            },
            "type": "scatterternary"
           }
          ],
          "surface": [
           {
            "colorbar": {
             "outlinewidth": 0,
             "ticks": ""
            },
            "colorscale": [
             [
              0,
              "#0d0887"
             ],
             [
              0.1111111111111111,
              "#46039f"
             ],
             [
              0.2222222222222222,
              "#7201a8"
             ],
             [
              0.3333333333333333,
              "#9c179e"
             ],
             [
              0.4444444444444444,
              "#bd3786"
             ],
             [
              0.5555555555555556,
              "#d8576b"
             ],
             [
              0.6666666666666666,
              "#ed7953"
             ],
             [
              0.7777777777777778,
              "#fb9f3a"
             ],
             [
              0.8888888888888888,
              "#fdca26"
             ],
             [
              1,
              "#f0f921"
             ]
            ],
            "type": "surface"
           }
          ],
          "table": [
           {
            "cells": {
             "fill": {
              "color": "#EBF0F8"
             },
             "line": {
              "color": "white"
             }
            },
            "header": {
             "fill": {
              "color": "#C8D4E3"
             },
             "line": {
              "color": "white"
             }
            },
            "type": "table"
           }
          ]
         },
         "layout": {
          "annotationdefaults": {
           "arrowcolor": "#2a3f5f",
           "arrowhead": 0,
           "arrowwidth": 1
          },
          "coloraxis": {
           "colorbar": {
            "outlinewidth": 0,
            "ticks": ""
           }
          },
          "colorscale": {
           "diverging": [
            [
             0,
             "#8e0152"
            ],
            [
             0.1,
             "#c51b7d"
            ],
            [
             0.2,
             "#de77ae"
            ],
            [
             0.3,
             "#f1b6da"
            ],
            [
             0.4,
             "#fde0ef"
            ],
            [
             0.5,
             "#f7f7f7"
            ],
            [
             0.6,
             "#e6f5d0"
            ],
            [
             0.7,
             "#b8e186"
            ],
            [
             0.8,
             "#7fbc41"
            ],
            [
             0.9,
             "#4d9221"
            ],
            [
             1,
             "#276419"
            ]
           ],
           "sequential": [
            [
             0,
             "#0d0887"
            ],
            [
             0.1111111111111111,
             "#46039f"
            ],
            [
             0.2222222222222222,
             "#7201a8"
            ],
            [
             0.3333333333333333,
             "#9c179e"
            ],
            [
             0.4444444444444444,
             "#bd3786"
            ],
            [
             0.5555555555555556,
             "#d8576b"
            ],
            [
             0.6666666666666666,
             "#ed7953"
            ],
            [
             0.7777777777777778,
             "#fb9f3a"
            ],
            [
             0.8888888888888888,
             "#fdca26"
            ],
            [
             1,
             "#f0f921"
            ]
           ],
           "sequentialminus": [
            [
             0,
             "#0d0887"
            ],
            [
             0.1111111111111111,
             "#46039f"
            ],
            [
             0.2222222222222222,
             "#7201a8"
            ],
            [
             0.3333333333333333,
             "#9c179e"
            ],
            [
             0.4444444444444444,
             "#bd3786"
            ],
            [
             0.5555555555555556,
             "#d8576b"
            ],
            [
             0.6666666666666666,
             "#ed7953"
            ],
            [
             0.7777777777777778,
             "#fb9f3a"
            ],
            [
             0.8888888888888888,
             "#fdca26"
            ],
            [
             1,
             "#f0f921"
            ]
           ]
          },
          "colorway": [
           "#636efa",
           "#EF553B",
           "#00cc96",
           "#ab63fa",
           "#FFA15A",
           "#19d3f3",
           "#FF6692",
           "#B6E880",
           "#FF97FF",
           "#FECB52"
          ],
          "font": {
           "color": "#2a3f5f"
          },
          "geo": {
           "bgcolor": "white",
           "lakecolor": "white",
           "landcolor": "#E5ECF6",
           "showlakes": true,
           "showland": true,
           "subunitcolor": "white"
          },
          "hoverlabel": {
           "align": "left"
          },
          "hovermode": "closest",
          "mapbox": {
           "style": "light"
          },
          "paper_bgcolor": "white",
          "plot_bgcolor": "#E5ECF6",
          "polar": {
           "angularaxis": {
            "gridcolor": "white",
            "linecolor": "white",
            "ticks": ""
           },
           "bgcolor": "#E5ECF6",
           "radialaxis": {
            "gridcolor": "white",
            "linecolor": "white",
            "ticks": ""
           }
          },
          "scene": {
           "xaxis": {
            "backgroundcolor": "#E5ECF6",
            "gridcolor": "white",
            "gridwidth": 2,
            "linecolor": "white",
            "showbackground": true,
            "ticks": "",
            "zerolinecolor": "white"
           },
           "yaxis": {
            "backgroundcolor": "#E5ECF6",
            "gridcolor": "white",
            "gridwidth": 2,
            "linecolor": "white",
            "showbackground": true,
            "ticks": "",
            "zerolinecolor": "white"
           },
           "zaxis": {
            "backgroundcolor": "#E5ECF6",
            "gridcolor": "white",
            "gridwidth": 2,
            "linecolor": "white",
            "showbackground": true,
            "ticks": "",
            "zerolinecolor": "white"
           }
          },
          "shapedefaults": {
           "line": {
            "color": "#2a3f5f"
           }
          },
          "ternary": {
           "aaxis": {
            "gridcolor": "white",
            "linecolor": "white",
            "ticks": ""
           },
           "baxis": {
            "gridcolor": "white",
            "linecolor": "white",
            "ticks": ""
           },
           "bgcolor": "#E5ECF6",
           "caxis": {
            "gridcolor": "white",
            "linecolor": "white",
            "ticks": ""
           }
          },
          "title": {
           "x": 0.05
          },
          "xaxis": {
           "automargin": true,
           "gridcolor": "white",
           "linecolor": "white",
           "ticks": "",
           "title": {
            "standoff": 15
           },
           "zerolinecolor": "white",
           "zerolinewidth": 2
          },
          "yaxis": {
           "automargin": true,
           "gridcolor": "white",
           "linecolor": "white",
           "ticks": "",
           "title": {
            "standoff": 15
           },
           "zerolinecolor": "white",
           "zerolinewidth": 2
          }
         }
        },
        "title": {
         "text": "2016 President Election Results"
        }
       }
      }
     },
     "metadata": {}
    }
   ],
   "source": [
    "fig2016 = px.choropleth(p_res,  # Input Pandas DataFrame\n",
    "                    locations='STATE ABBREVIATION',  # DataFrame column with locations\n",
    "                    color='Party Lean Percentage', # DataFrame column with color value\n",
    "                    color_continuous_scale=px.colors.diverging.RdBu, # from https://plotly.com/python/builtin-colorscales/\n",
    "                    color_continuous_midpoint=0, # party preference midpoint\n",
    "                    hover_name='STATE', # DataFrame column hover info\n",
    "                    hover_data={'PARTY':True, # add other column, default formatting\n",
    "                               'WINNER INDICATOR':False, # remove party_lean from hover data\n",
    "                               'GENERAL %':False, # remove party_lean from hover data\n",
    "                               'Party Lean Percentage':False # remove party_lean from hover data\n",
    "                               },\n",
    "                    locationmode = 'USA-states' # Set to plot as US States\n",
    "                    )\n",
    "\n",
    "fig2016.update_layout(\n",
    "    title_text='2016 President Election Results', \n",
    "    geo_scope='usa')  # Plot only the USA instead of globe\n",
    "\n",
    "                    \n",
    "fig2016.show()"
   ]
  },
  {
   "cell_type": "code",
   "execution_count": null,
   "metadata": {},
   "outputs": [],
   "source": []
  }
 ],
 "metadata": {
  "kernelspec": {
   "display_name": "Python 3",
   "language": "python",
   "name": "python3"
  },
  "language_info": {
   "codemirror_mode": {
    "name": "ipython",
    "version": 3
   },
   "file_extension": ".py",
   "mimetype": "text/x-python",
   "name": "python",
   "nbconvert_exporter": "python",
   "pygments_lexer": "ipython3",
   "version": "3.8.3-final"
  }
 },
 "nbformat": 4,
 "nbformat_minor": 4
}